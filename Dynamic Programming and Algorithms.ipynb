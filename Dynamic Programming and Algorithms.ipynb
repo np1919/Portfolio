{
 "cells": [
  {
   "cell_type": "markdown",
   "id": "0e20b11b",
   "metadata": {},
   "source": [
    "\n",
    "Dynamic Programming -  Learn to Solve Algorithmic Problems & Coding Challenges\n",
    "---\n",
    "\n",
    "[https://www.youtube.com/watch?v=oBt53YbR9Kk](https://www.youtube.com/watch?v=oBt53YbR9Kk)\n",
    "---\n",
    "\n",
    "### (by Alvin from freeCodeCamp.org)\n",
    "\n",
    "\n",
    "Ned Poland\n"
   ]
  },
  {
   "cell_type": "markdown",
   "id": "a73af387",
   "metadata": {},
   "source": [
    "Dynamic Programming\n",
    "---\n",
    "\n",
    "In the video above, Alvin clearly and elegantly breaks down the key concepts of dynamic programming in terms of solving complicated (algorithmic) problems at scale. This is my first work learning about **big-O notation, the time and space complexity of a computation**, and I thought it was a great introduction. \n",
    "\n",
    "My understanding is that **dynamic programming seeks to solve large problems by breaking them down into smaller ones that we know how to solve**.\n",
    "\n",
    "\n",
    "In the video above, the code is written in Java, but I've written my implementations in Python. \n",
    "\n",
    "In the workbook below I attempt to solve a few (fairly simple) algorthmic problems, as described in the video. \n",
    "\n",
    "The functions are split broadly into two categories of algorithmic solving used in dynamic programming; \n",
    "\n",
    "# `memoization`  and `tabulation`\n",
    "\n",
    " "
   ]
  },
  {
   "cell_type": "markdown",
   "id": "f40f0a32",
   "metadata": {},
   "source": [
    "Memoization in Python...\n",
    "---\n",
    "Memoization is the process of storing the results of a function call for quick reference, to reduce the computation necessary to solve the algorithm as a whole. Performing fewer calculations reduces the time complexity of the problem. \n",
    "\n",
    "Some of the functions (like fibonacci or grid traveler) work just fine with a shared memo cache. However, for those functions to be used with varying arguments (same problem, different set of numbers) -- having the same memo object is a problem. The solution for one instance of a function call should not interact with other instances of the function call.\n",
    "\n",
    "One alternative is to hardcode a variable (empty dictionary) for each separate cache of results -- but I wanted the functions to be callable without having to create and pass a container as an argument.\n",
    "\n",
    "I couldn't use the built-in @cache or @lru-cache decorators, because some of the functions below return Python lists which are not a hashable type like a Python dictionary (or Java array). \n",
    "\n",
    "My idea was to use an empty dictionary as a default argument, where the function would cache its own results. Unfortunately, due to way that Python functions store default arguments to functions, caching a memo was more difficult than originally anticipated. \n",
    "\n",
    "\n",
    "Bound functions and scope\n",
    "---\n",
    "My understanding is that using a `dict()` constructor as a default argument when writing a Python function (or otherwise hardcoding a singular cache in the global namespace) results in all calls to that function utilizing the same memo cache.\n",
    "\n",
    "In the case of passing a default argument, the dictionary is stored in the function's namespace, with cached values being 'maintained' in all the future function calls within the same program -- **even if the other parameters to the call have changed** -- which is not the desired behaviour.\n",
    "\n",
    "For example, if we were to make multiple calls to the function below, `can_sum`; which returns a boolean value:\n",
    "---"
   ]
  },
  {
   "cell_type": "code",
   "execution_count": 2,
   "id": "f53f15dc",
   "metadata": {},
   "outputs": [],
   "source": [
    "def can_sum(m:int, n:list, memo=dict()):\n",
    "    \"\"\" accepts:\n",
    "                m: integer\n",
    "                n: list of integers\n",
    "        returns:\n",
    "            bool;\n",
    "             whether or not any combination of the integers in `n` can sum to the target, `m`.\n",
    "            replacement is permitted. all integers in n will be non-negative.\n",
    "        \"\"\"\n",
    "    #### Base Case/Win Condition; subtract successfully to 0.\n",
    "    if m == 0: \n",
    "        return True\n",
    "\n",
    "    #### Lose Condition; subtracted too far. Return False\n",
    "    if m < 0:\n",
    "        memo[m] = False\n",
    "        return False\n",
    "    \n",
    "    #### Early Return --> target already in memory\n",
    "    if m in memo:\n",
    "        return memo[m]\n",
    "\n",
    "    \n",
    "    \n",
    "    #### Branching/Recursive Logic;\n",
    "            # Iterate through integers in `n`\n",
    "    for element in n:\n",
    "            # subtract `element` from m. Pass the remainder into a recursive call.\n",
    "        remainder = m - element\n",
    "            # calculate that branch/node;\n",
    "        result = can_sum(remainder, n, memo)\n",
    "        \n",
    "            # if ever a node reaches 0, we can return True early. --> we Can Sum to the target. \n",
    "        if  result == True:\n",
    "            memo[m] = True\n",
    "            return True\n",
    "        else:\n",
    "            # if not, return False. Memo-ize in either case. As long as a recursive call is still running from this branch, \n",
    "            # the value at this stage of `m` will not be set to False in the dictionary\n",
    "            memo[m] = False\n",
    "            return False"
   ]
  },
  {
   "cell_type": "markdown",
   "id": "368481ad",
   "metadata": {},
   "source": [
    "---"
   ]
  },
  {
   "cell_type": "markdown",
   "id": "92f93bc2",
   "metadata": {},
   "source": [
    "We end up with some interesting results:\n",
    "\n",
    "\n",
    "Python Function Scope\n",
    "---\n",
    "\n",
    "Let's take a brief look at the issue I encountered (and what I learned!). You can look at the function above yourself, but for now, assume that it works just fine in terms of the branching logic.\n",
    "\n",
    "Examine below:"
   ]
  },
  {
   "cell_type": "code",
   "execution_count": 3,
   "id": "353891d5",
   "metadata": {},
   "outputs": [
    {
     "data": {
      "text/plain": [
       "True"
      ]
     },
     "execution_count": 3,
     "metadata": {},
     "output_type": "execute_result"
    }
   ],
   "source": [
    "a = can_sum(8, [1, 2, 3, 5])\n",
    "a\n"
   ]
  },
  {
   "cell_type": "markdown",
   "id": "08f0ffc6",
   "metadata": {},
   "source": [
    "Ok, good -- you can make 8 a bunch of ways using those numbers."
   ]
  },
  {
   "cell_type": "code",
   "execution_count": 4,
   "id": "f4e9e90c",
   "metadata": {},
   "outputs": [
    {
     "data": {
      "text/plain": [
       "True"
      ]
     },
     "execution_count": 4,
     "metadata": {},
     "output_type": "execute_result"
    }
   ],
   "source": [
    "b = can_sum(11, [4, 8, 14])\n",
    "b"
   ]
  },
  {
   "cell_type": "markdown",
   "id": "22b19893",
   "metadata": {},
   "source": [
    "What? you can't make 11 from the elements in [4, 8, 14]. What's going on here? \n",
    "\n",
    "In fact, the issue lies with the `memo=dict()`, passed as a **default argument** in the `can_sum` function proper; by passing \"memo\" as a default argument, that dictionary exists in the **__defaults__ dictionary inside the class definition** and stores all 'cached' values there, *regardless of which other parameters in the function call are different!*\n",
    "\n",
    "So, our cached results are inter-mingling in the function's class definition:"
   ]
  },
  {
   "cell_type": "code",
   "execution_count": 5,
   "id": "c6fc2514",
   "metadata": {
    "scrolled": true
   },
   "outputs": [
    {
     "data": {
      "text/plain": [
       "<function __main__.can_sum(m: int, n: list, memo={1: True, 2: True, 3: True, 4: True, 5: True, 6: True, 7: True, 8: True, 11: True})>"
      ]
     },
     "execution_count": 5,
     "metadata": {},
     "output_type": "execute_result"
    }
   ],
   "source": [
    "can_sum"
   ]
  },
  {
   "cell_type": "code",
   "execution_count": 18,
   "id": "00eba5f8",
   "metadata": {},
   "outputs": [
    {
     "data": {
      "text/plain": [
       "{1: True,\n",
       " 2: True,\n",
       " 3: True,\n",
       " 4: True,\n",
       " 5: True,\n",
       " 6: True,\n",
       " 7: True,\n",
       " 8: True,\n",
       " 11: True,\n",
       " 18: True,\n",
       " 25: True,\n",
       " 32: True,\n",
       " 39: True,\n",
       " 46: True,\n",
       " 53: True,\n",
       " 60: True,\n",
       " 67: True,\n",
       " 74: True,\n",
       " 81: True,\n",
       " 88: True,\n",
       " 95: True,\n",
       " 102: True,\n",
       " 109: True,\n",
       " 116: True,\n",
       " 123: True,\n",
       " 130: True,\n",
       " 137: True,\n",
       " 144: True,\n",
       " 151: True,\n",
       " 158: True,\n",
       " 165: True,\n",
       " 172: True,\n",
       " 179: True,\n",
       " 186: True,\n",
       " 193: True,\n",
       " 200: True,\n",
       " 207: True,\n",
       " 214: True,\n",
       " 221: True,\n",
       " 228: True,\n",
       " 235: True,\n",
       " 242: True,\n",
       " 249: True,\n",
       " 256: True,\n",
       " 263: True,\n",
       " 270: True,\n",
       " 277: True,\n",
       " 284: True,\n",
       " 291: True,\n",
       " 298: True,\n",
       " 305: True,\n",
       " 312: True,\n",
       " 319: True,\n",
       " 326: True,\n",
       " 333: True,\n",
       " 340: True,\n",
       " 347: True,\n",
       " 354: True,\n",
       " 361: True,\n",
       " 368: True,\n",
       " 375: True,\n",
       " 382: True,\n",
       " 389: True,\n",
       " 396: True,\n",
       " 403: True,\n",
       " 410: True,\n",
       " 417: True,\n",
       " 424: True,\n",
       " 431: True,\n",
       " 438: True,\n",
       " 445: True,\n",
       " 452: True,\n",
       " 459: True,\n",
       " 466: True,\n",
       " 473: True,\n",
       " 480: True,\n",
       " 487: True,\n",
       " 494: True,\n",
       " 501: True,\n",
       " 508: True,\n",
       " 515: True,\n",
       " 522: True,\n",
       " 529: True,\n",
       " 536: True,\n",
       " 543: True,\n",
       " 550: True,\n",
       " 557: True,\n",
       " 564: True,\n",
       " 571: True,\n",
       " 578: True,\n",
       " 585: True,\n",
       " 592: True,\n",
       " 599: True,\n",
       " 606: True,\n",
       " 613: True,\n",
       " 620: True,\n",
       " 627: True,\n",
       " 634: True,\n",
       " 641: True,\n",
       " 648: True,\n",
       " 655: True,\n",
       " 662: True,\n",
       " 669: True,\n",
       " 676: True,\n",
       " 683: True,\n",
       " 690: True,\n",
       " 697: True,\n",
       " 704: True,\n",
       " 711: True,\n",
       " 718: True,\n",
       " 725: True,\n",
       " 732: True,\n",
       " 739: True,\n",
       " 746: True,\n",
       " 753: True,\n",
       " 760: True,\n",
       " 767: True,\n",
       " 774: True,\n",
       " 781: True,\n",
       " 788: True,\n",
       " 795: True,\n",
       " 802: True,\n",
       " 809: True,\n",
       " 816: True,\n",
       " 823: True,\n",
       " 830: True,\n",
       " 837: True,\n",
       " 844: True,\n",
       " 851: True,\n",
       " 858: True,\n",
       " 865: True,\n",
       " 872: True,\n",
       " 879: True,\n",
       " 886: True,\n",
       " 893: True,\n",
       " 900: True,\n",
       " 907: True,\n",
       " 914: True,\n",
       " 921: True,\n",
       " 928: True,\n",
       " 935: True,\n",
       " 942: True,\n",
       " 949: True,\n",
       " 956: True,\n",
       " 963: True,\n",
       " 970: True,\n",
       " 977: True,\n",
       " 984: True,\n",
       " 991: True,\n",
       " 998: True,\n",
       " 1005: True,\n",
       " 1012: True,\n",
       " 1019: True,\n",
       " 1026: True,\n",
       " 1033: True,\n",
       " 1040: True,\n",
       " 1047: True,\n",
       " 1054: True,\n",
       " 1061: True,\n",
       " 1068: True,\n",
       " 1075: True,\n",
       " 1082: True,\n",
       " 1089: True,\n",
       " 1096: True,\n",
       " 1103: True,\n",
       " 1110: True,\n",
       " 1117: True,\n",
       " 1124: True,\n",
       " 1131: True,\n",
       " 1138: True,\n",
       " 1145: True,\n",
       " 1152: True,\n",
       " 1159: True,\n",
       " 1166: True,\n",
       " 1173: True,\n",
       " 1180: True,\n",
       " 1187: True,\n",
       " 1194: True,\n",
       " 1201: True,\n",
       " 1208: True,\n",
       " 1215: True,\n",
       " 1222: True,\n",
       " 1229: True,\n",
       " 1236: True,\n",
       " 1243: True,\n",
       " 1250: True,\n",
       " 1257: True,\n",
       " 1264: True,\n",
       " 1271: True,\n",
       " 1278: True,\n",
       " 1285: True,\n",
       " 1292: True,\n",
       " 1299: True,\n",
       " 1306: True,\n",
       " 1313: True,\n",
       " 1320: True,\n",
       " 1327: True,\n",
       " 1334: True,\n",
       " 1341: True,\n",
       " 1348: True,\n",
       " 1355: True,\n",
       " 1362: True,\n",
       " 1369: True,\n",
       " 1376: True,\n",
       " 1383: True,\n",
       " 1390: True,\n",
       " 1397: True,\n",
       " 1404: True,\n",
       " 1411: True,\n",
       " 1418: True,\n",
       " 1425: True,\n",
       " 1432: True,\n",
       " 1439: True,\n",
       " 1446: True,\n",
       " 1453: True,\n",
       " 1460: True,\n",
       " 1467: True,\n",
       " 1474: True,\n",
       " 1481: True,\n",
       " 1488: True,\n",
       " 1495: True,\n",
       " 1502: True,\n",
       " 1509: True,\n",
       " 1516: True,\n",
       " 1523: True,\n",
       " 1530: True,\n",
       " 1537: True,\n",
       " 1544: True,\n",
       " 1551: True,\n",
       " 1558: True,\n",
       " 1565: True,\n",
       " 1572: True,\n",
       " 1579: True,\n",
       " 1586: True,\n",
       " 1593: True,\n",
       " 1600: True,\n",
       " 1607: True,\n",
       " 1614: True,\n",
       " 1621: True,\n",
       " 1628: True,\n",
       " 1635: True,\n",
       " 1642: True,\n",
       " 1649: True,\n",
       " 1656: True,\n",
       " 1663: True,\n",
       " 1670: True,\n",
       " 1677: True,\n",
       " 1684: True,\n",
       " 1691: True,\n",
       " 1698: True,\n",
       " 1705: True,\n",
       " 1712: True,\n",
       " 1719: True,\n",
       " 1726: True,\n",
       " 1733: True,\n",
       " 1740: True,\n",
       " 1747: True,\n",
       " 1754: True,\n",
       " 1761: True,\n",
       " 1768: True,\n",
       " 1775: True,\n",
       " 1782: True,\n",
       " 1789: True,\n",
       " 1796: True,\n",
       " 1803: True,\n",
       " 1810: True,\n",
       " 1817: True,\n",
       " 1824: True,\n",
       " 1831: True,\n",
       " 1838: True,\n",
       " 1845: True,\n",
       " 1852: True,\n",
       " 1859: True,\n",
       " 1866: True,\n",
       " 1873: True,\n",
       " 1880: True,\n",
       " 1887: True,\n",
       " 1894: True,\n",
       " 1901: True,\n",
       " 1908: True,\n",
       " 1915: True,\n",
       " 1922: True,\n",
       " 1929: True,\n",
       " 1936: True,\n",
       " 1943: True,\n",
       " 1950: True,\n",
       " 1957: True,\n",
       " 1964: True,\n",
       " 1971: True,\n",
       " 1978: True,\n",
       " 1985: True,\n",
       " 1992: True,\n",
       " 1999: True,\n",
       " 2006: True,\n",
       " 2013: True,\n",
       " 2020: True,\n",
       " 2027: True,\n",
       " 2034: True,\n",
       " 2041: True,\n",
       " 2048: True,\n",
       " 2055: True,\n",
       " 2062: True,\n",
       " 2069: True,\n",
       " 2076: True,\n",
       " 2083: True,\n",
       " 2090: True,\n",
       " 2097: True,\n",
       " 2104: True,\n",
       " 2111: True,\n",
       " 2118: True,\n",
       " 2125: True,\n",
       " 2132: True,\n",
       " 2139: True,\n",
       " 2146: True,\n",
       " 2153: True,\n",
       " 2160: True,\n",
       " 2167: True,\n",
       " 2174: True,\n",
       " 2181: True,\n",
       " 2188: True,\n",
       " 2195: True,\n",
       " 2202: True,\n",
       " 2209: True,\n",
       " 2216: True,\n",
       " 2223: True,\n",
       " 2230: True,\n",
       " 2237: True,\n",
       " 2244: True,\n",
       " 2251: True,\n",
       " 2258: True,\n",
       " 2265: True,\n",
       " 2272: True,\n",
       " 2279: True,\n",
       " 2286: True,\n",
       " 2293: True,\n",
       " 2300: True,\n",
       " 2307: True,\n",
       " 2314: True,\n",
       " 2321: True,\n",
       " 2328: True,\n",
       " 2335: True,\n",
       " 2342: True,\n",
       " 2349: True,\n",
       " 2356: True,\n",
       " 2363: True,\n",
       " 2370: True,\n",
       " 2377: True,\n",
       " 2384: True,\n",
       " 2391: True,\n",
       " 2398: True,\n",
       " 2405: True,\n",
       " 2412: True,\n",
       " 2419: True,\n",
       " 2426: True,\n",
       " 2433: True,\n",
       " 2440: True,\n",
       " 2447: True,\n",
       " 2454: True,\n",
       " 2461: True,\n",
       " 2468: True,\n",
       " 2475: True,\n",
       " 2482: True,\n",
       " 2489: True,\n",
       " 2496: True,\n",
       " 2503: True,\n",
       " 2510: True,\n",
       " 2517: True,\n",
       " 2524: True,\n",
       " 2531: True,\n",
       " 2538: True,\n",
       " 2545: True,\n",
       " 2552: True,\n",
       " 2559: True,\n",
       " 2566: True,\n",
       " 2573: True,\n",
       " 2580: True,\n",
       " 2587: True,\n",
       " 2594: True,\n",
       " 2601: True,\n",
       " 2608: True,\n",
       " 2615: True,\n",
       " 2622: True,\n",
       " 2629: True,\n",
       " 2636: True,\n",
       " 2643: True,\n",
       " 2650: True,\n",
       " 2657: True,\n",
       " 2664: True,\n",
       " 2671: True,\n",
       " 2678: True,\n",
       " 2685: True,\n",
       " 2692: True,\n",
       " 2699: True,\n",
       " 2706: True,\n",
       " 2713: True,\n",
       " 2720: True,\n",
       " 2727: True,\n",
       " 2734: True,\n",
       " 2741: True,\n",
       " 2748: True,\n",
       " 2755: True,\n",
       " 2762: True,\n",
       " 2769: True,\n",
       " 2776: True,\n",
       " 2783: True,\n",
       " 2790: True,\n",
       " 2797: True,\n",
       " 2804: True,\n",
       " 2811: True,\n",
       " 2818: True,\n",
       " 2825: True,\n",
       " 2832: True,\n",
       " 2839: True,\n",
       " 2846: True,\n",
       " 2853: True,\n",
       " 2860: True,\n",
       " 2867: True,\n",
       " 2874: True,\n",
       " 2881: True,\n",
       " 2888: True,\n",
       " 2895: True,\n",
       " 2902: True,\n",
       " 2909: True,\n",
       " 2916: True,\n",
       " 2923: True,\n",
       " 2930: True,\n",
       " 2937: True,\n",
       " 2944: True,\n",
       " 2951: True,\n",
       " 2958: True,\n",
       " 2965: True,\n",
       " 2972: True,\n",
       " 2979: True,\n",
       " 2986: True,\n",
       " 2993: True,\n",
       " 3000: True}"
      ]
     },
     "execution_count": 18,
     "metadata": {},
     "output_type": "execute_result"
    }
   ],
   "source": [
    "can_sum.__defaults__[0]"
   ]
  },
  {
   "cell_type": "markdown",
   "id": "cad7b07a",
   "metadata": {},
   "source": [
    "Which gives erroneous results when we call the function with new parameters:"
   ]
  },
  {
   "cell_type": "code",
   "execution_count": 6,
   "id": "7a652176",
   "metadata": {
    "scrolled": true
   },
   "outputs": [
    {
     "name": "stdout",
     "output_type": "stream",
     "text": [
      "True\n"
     ]
    }
   ],
   "source": [
    "print(can_sum(3000, [7,14])) # note that this SHOULD return false, but because the memo was stored in the function dictionary,\n",
    "                            # it returns true. Below, you can also see the many values which are not multiples of 7 (or 14)\n",
    "                            # which are now stored in the function's (bound?) `memo` dictionary\n",
    "# can_sum\n",
    "\n",
    "# should return False..."
   ]
  },
  {
   "cell_type": "markdown",
   "id": "5fe5b72a",
   "metadata": {},
   "source": [
    "---"
   ]
  },
  {
   "cell_type": "markdown",
   "id": "139d4e1e",
   "metadata": {},
   "source": [
    "My Own Wrapper\n",
    "---\n",
    "\n",
    "I've implemented my own (very simple) `memo-ization tool` below. It encloses the memo object in the scope of the `wrapper` function instead of the `can_sum` class definition, thereby using only the results from previous recursive calls in the `wrapper`'s namespace. \n",
    "\n",
    "I tried `@cache` and `@lru_cache` and ran into issues due to the Java implementations returning arrays where I was returning lists... I could have used dictionaries there; and I know there are also ways to make the function below into a decorator, but I haven't figured it out quite yet. \n",
    "\n",
    "    By creating a dictionary within the scope of this `wrapper` function and then calling our function from inside the wrapper, we can create a new instance of a memo object for the function and find the values we need without affecting the globally-scoped dictionary of our defined function.  "
   ]
  },
  {
   "cell_type": "code",
   "execution_count": 9,
   "id": "4e544c26",
   "metadata": {},
   "outputs": [],
   "source": [
    "def wrapper(func, m, n):\n",
    "    '''making my own cache'''\n",
    "    memo = dict() # make a new dictionary\n",
    "    return func(m, n, memo=memo) # pass it to the named variable memo"
   ]
  },
  {
   "cell_type": "code",
   "execution_count": 11,
   "id": "e255a56a",
   "metadata": {},
   "outputs": [
    {
     "name": "stdout",
     "output_type": "stream",
     "text": [
      "False\n"
     ]
    }
   ],
   "source": [
    "print(wrapper(can_sum, 3000, [7,14])) # from inside the wrapper (starting with an empty cache), \n",
    "                                        # the same call as above Correctly returns False \n",
    "    \n",
    "#  Despite that, the default can_sum dictionary is still messed up until we re-initialize the kernel.\n",
    "# can_sum    \n",
    "\n",
    "# Correctly returns False within the wrapper scope."
   ]
  },
  {
   "cell_type": "code",
   "execution_count": 14,
   "id": "5d00b9ee",
   "metadata": {
    "scrolled": true
   },
   "outputs": [
    {
     "data": {
      "text/plain": [
       "<function __main__.wrapper(func, m, n)>"
      ]
     },
     "execution_count": 14,
     "metadata": {},
     "output_type": "execute_result"
    }
   ],
   "source": [
    "wrapper \n",
    "\n",
    "# no default argument stored, no problem."
   ]
  },
  {
   "cell_type": "markdown",
   "id": "b1ccd41d",
   "metadata": {},
   "source": [
    "Decorators and class definitions are something I will be continuing to work on as I continue on my learning path with Python. Let's get back to the topic at hand; dynamic programming for algorithms; beginning with Memoization."
   ]
  },
  {
   "cell_type": "markdown",
   "id": "40fc07a2",
   "metadata": {},
   "source": [
    "---"
   ]
  },
  {
   "cell_type": "markdown",
   "id": "b52a0896",
   "metadata": {},
   "source": [
    "Introduction to Recursion...\n",
    "---\n",
    "\n",
    "In recursive algorithms, we break a problem down into smaller and smaller parts until we reach a **Base Case** scenario -- which either produces our desired result, or proves it's impossibility.\n",
    "\n",
    "For example, if our desired result was that a target integer was to be reduced to 0 by *subtracting* (positive) integers from another list --> the 'base case' would be that the result of our function call ends up making 0. Conversely, the impossible 'base case' would be if our function call returns any number less than 0 --> since we're subtracting positive integers, we can't add to the final value in any way from there.\n",
    "\n",
    "If our goal was to reach 0, we can eventually reach 0 by performing the operation `-1` on the value 1. We can continue on in that way until we've subtracted the whole integer, if we can use infinite `-1`'s. "
   ]
  },
  {
   "cell_type": "code",
   "execution_count": 15,
   "id": "525201b7",
   "metadata": {},
   "outputs": [
    {
     "name": "stdout",
     "output_type": "stream",
     "text": [
      "10\t9\t8\t7\t6\t5\t4\t3\t2\t1\t"
     ]
    },
    {
     "data": {
      "text/plain": [
       "True"
      ]
     },
     "execution_count": 15,
     "metadata": {},
     "output_type": "execute_result"
    }
   ],
   "source": [
    "def sub_1(m):\n",
    "    ''' subtract 1 from m until you reach 0'''\n",
    "    \n",
    "    # Base Case; \n",
    "    # m reaches 0.\n",
    "    if m == 0:\n",
    "        return True\n",
    "    if m > 0:\n",
    "        # verbose\n",
    "        print(m, end='\\t')       \n",
    "        # call the function inside itself (recursively). \n",
    "        return sub_1(m-1)\n",
    "        \n",
    "sub_1(10)\n",
    "# despite the other calls needing to resolve before \n",
    "# calculating the value of sub_1(10); \n",
    "# the results are displayed in order."
   ]
  },
  {
   "cell_type": "markdown",
   "id": "2c03b6e8",
   "metadata": {},
   "source": [
    "The problems below are a little bit more difficult than subtracting to 0, but some of them will probably be familiar to you."
   ]
  },
  {
   "cell_type": "markdown",
   "id": "d976fa06",
   "metadata": {},
   "source": [
    "---"
   ]
  },
  {
   "cell_type": "markdown",
   "id": "54126487",
   "metadata": {},
   "source": [
    "Memoization\n",
    "---\n",
    "\n",
    "**Memoization** is the idea that the smallest iteration of a dynamic programming problem will likely have to be calculated many many times. It seeks to store the values for those simple calculations in a record; from there, it can simply reference the record when the problem comes up again, instead of having to re-calculate the value.\n",
    "\n",
    "Problems are often visualized as 'recursive trees' in this method, where, for example; from a large sequence (head node), we begin to chip away at the values, breaking them into smaller and smaller chunks by means of a process we can eventually perform in reverse. If we are able to fully *digest* the problem using our very small method --> then we can reconstruct our steps, and are sure we can climb back up to the top of the tree (thereby solving our big problem). \n",
    "\n",
    "Typically, many of the branches will not satisfy our needs. In some cases we only need to find a single path back, and for other problems we might want to find all paths. Within these requirements we hope to keep our **time and space complexity** to a minimum; *linear is much better than exponential, especially at scale.*\n",
    "\n",
    "\n",
    "In memoization problems, we use a cached memory to save the results from our (smaller) recursive calls in memory. By doing so, we reduce the number of calculations (*time*) necessary to complete the problem. The amount of *space* necessary does remain relevant in this type of solution."
   ]
  },
  {
   "cell_type": "markdown",
   "id": "14a5f080",
   "metadata": {},
   "source": [
    "---"
   ]
  },
  {
   "cell_type": "markdown",
   "id": "e3869007",
   "metadata": {},
   "source": [
    "Grid Traveler\n",
    "---\n",
    "The goal in this case is to move from the top left of an 18 * 18 grid to the bottom right, and count how many different ways you could get there. \n",
    "\n",
    "The **Base Case** here is that you end up at position (1,1) -> able to move off the last corner of the grid. \n",
    "\n",
    "\n",
    "If we imagine the grid instead as x and y cartesian points, we could say that any positions where the x or y point is at 0 is **out of bounds**; equally, any x or y value greater than the (square) grid would be out of bounds. Therefore; starting at the top left of an 18\\*18 grid, how many ways are there to find yourself at the bottom right, moving only right or down?\n",
    "\n",
    "There will be only one path to the finish once the traveler reaches x=1 and y=1. This means you're at the corner, and moving right or down (the only legal moves) will result in success."
   ]
  },
  {
   "cell_type": "code",
   "execution_count": 125,
   "id": "eb05ff6b",
   "metadata": {},
   "outputs": [
    {
     "name": "stdout",
     "output_type": "stream",
     "text": [
      "2333606220\n",
      "0\n",
      "1\n",
      "\n",
      "3\n",
      "6\n",
      "\n",
      "0\n",
      "0\n",
      "1\n",
      "1\n",
      "\n",
      "2333606220\n"
     ]
    }
   ],
   "source": [
    "def grid_traveler(m:int, n:int, memo=dict()):\n",
    "    '''beginning at the top left of a 2-D grid, \n",
    "        and moving only DOWN or to the RIGHT;\n",
    "         HOW MANY WAYS can you travel to the goal?'''\n",
    "\n",
    "    # Base Cases;\n",
    "    if m == 1 and n == 1:# Win -> you've reached the bottom right corner.\n",
    "        return 1\n",
    "    \n",
    "    if m == 0 or n == 0: # Lose -> you're out of bounds.\n",
    "        return 0\n",
    "\n",
    "     \n",
    "    # Memoization\n",
    "    if (m, n) in memo: \n",
    "        return memo[(m, n)]\n",
    "    if (n, m) in memo:\n",
    "        return memo[(n, m)]\n",
    "\n",
    "    \n",
    "    go_down = grid_traveler(m-1, n, memo) # move down\n",
    "    go_right = grid_traveler(m, n-1, memo) # move right\n",
    "    \n",
    "    total = go_down + go_right # the total will be the sum of the potential paths stemming from this node\n",
    "    memo[(m, n)] = total # since the underlying grid will never change, keep cache in func.\n",
    "\n",
    "    return total\n",
    "        \n",
    "\n",
    "print(wrapper(grid_traveler, 18, 18))\n",
    "\n",
    "# Wrapping this function means calculating each value again for each call -- \n",
    "# This is redundant, as the total # of paths for each 'node' will remain constant\n",
    "# Over any number of larger grids. \n",
    "# \n",
    "print(grid_traveler(0, 0))\n",
    "print(grid_traveler(1,1))\n",
    "print()\n",
    "print(grid_traveler(2,3))\n",
    "print(grid_traveler(3,3))\n",
    "print()\n",
    "print(grid_traveler(18,0))\n",
    "print(grid_traveler(0,18))\n",
    "print(grid_traveler(18,1))\n",
    "print(grid_traveler(1,18))\n",
    "print()\n",
    "print(grid_traveler(18,18))\n",
    "# grid_traveler"
   ]
  },
  {
   "cell_type": "markdown",
   "id": "efe8d89b",
   "metadata": {},
   "source": [
    "We've actually solved this problem for all the cartesian coordinates in the range(s) (1,1) -> (18, 18), using the same rules. \n",
    "\n",
    "We could easily modify the program to return the full dictionary of values by returning the memo object."
   ]
  },
  {
   "cell_type": "code",
   "execution_count": 130,
   "id": "f7db7196",
   "metadata": {},
   "outputs": [
    {
     "name": "stdout",
     "output_type": "stream",
     "text": [
      "<class 'dict'>\n"
     ]
    },
    {
     "data": {
      "text/plain": [
       "{(1, 2): 1,\n",
       " (1, 3): 1,\n",
       " (2, 2): 2,\n",
       " (2, 3): 3,\n",
       " (3, 3): 6,\n",
       " (4, 1): 1,\n",
       " (5, 1): 1,\n",
       " (6, 1): 1,\n",
       " (7, 1): 1,\n",
       " (8, 1): 1,\n",
       " (9, 1): 1,\n",
       " (10, 1): 1,\n",
       " (11, 1): 1,\n",
       " (12, 1): 1,\n",
       " (13, 1): 1,\n",
       " (14, 1): 1,\n",
       " (15, 1): 1,\n",
       " (16, 1): 1,\n",
       " (17, 1): 1,\n",
       " (18, 1): 1,\n",
       " (2, 4): 4,\n",
       " (2, 5): 5,\n",
       " (2, 6): 6,\n",
       " (2, 7): 7,\n",
       " (2, 8): 8,\n",
       " (2, 9): 9,\n",
       " (2, 10): 10,\n",
       " (2, 11): 11,\n",
       " (2, 12): 12,\n",
       " (2, 13): 13,\n",
       " (2, 14): 14,\n",
       " (2, 15): 15,\n",
       " (2, 16): 16,\n",
       " (2, 17): 17,\n",
       " (2, 18): 18,\n",
       " (3, 4): 10,\n",
       " (3, 5): 15,\n",
       " (3, 6): 21,\n",
       " (3, 7): 28,\n",
       " (3, 8): 36,\n",
       " (3, 9): 45,\n",
       " (3, 10): 55,\n",
       " (3, 11): 66,\n",
       " (3, 12): 78,\n",
       " (3, 13): 91,\n",
       " (3, 14): 105,\n",
       " (3, 15): 120,\n",
       " (3, 16): 136,\n",
       " (3, 17): 153,\n",
       " (3, 18): 171,\n",
       " (4, 4): 20,\n",
       " (4, 5): 35,\n",
       " (4, 6): 56,\n",
       " (4, 7): 84,\n",
       " (4, 8): 120,\n",
       " (4, 9): 165,\n",
       " (4, 10): 220,\n",
       " (4, 11): 286,\n",
       " (4, 12): 364,\n",
       " (4, 13): 455,\n",
       " (4, 14): 560,\n",
       " (4, 15): 680,\n",
       " (4, 16): 816,\n",
       " (4, 17): 969,\n",
       " (4, 18): 1140,\n",
       " (5, 5): 70,\n",
       " (5, 6): 126,\n",
       " (5, 7): 210,\n",
       " (5, 8): 330,\n",
       " (5, 9): 495,\n",
       " (5, 10): 715,\n",
       " (5, 11): 1001,\n",
       " (5, 12): 1365,\n",
       " (5, 13): 1820,\n",
       " (5, 14): 2380,\n",
       " (5, 15): 3060,\n",
       " (5, 16): 3876,\n",
       " (5, 17): 4845,\n",
       " (5, 18): 5985,\n",
       " (6, 6): 252,\n",
       " (6, 7): 462,\n",
       " (6, 8): 792,\n",
       " (6, 9): 1287,\n",
       " (6, 10): 2002,\n",
       " (6, 11): 3003,\n",
       " (6, 12): 4368,\n",
       " (6, 13): 6188,\n",
       " (6, 14): 8568,\n",
       " (6, 15): 11628,\n",
       " (6, 16): 15504,\n",
       " (6, 17): 20349,\n",
       " (6, 18): 26334,\n",
       " (7, 7): 924,\n",
       " (7, 8): 1716,\n",
       " (7, 9): 3003,\n",
       " (7, 10): 5005,\n",
       " (7, 11): 8008,\n",
       " (7, 12): 12376,\n",
       " (7, 13): 18564,\n",
       " (7, 14): 27132,\n",
       " (7, 15): 38760,\n",
       " (7, 16): 54264,\n",
       " (7, 17): 74613,\n",
       " (7, 18): 100947,\n",
       " (8, 8): 3432,\n",
       " (8, 9): 6435,\n",
       " (8, 10): 11440,\n",
       " (8, 11): 19448,\n",
       " (8, 12): 31824,\n",
       " (8, 13): 50388,\n",
       " (8, 14): 77520,\n",
       " (8, 15): 116280,\n",
       " (8, 16): 170544,\n",
       " (8, 17): 245157,\n",
       " (8, 18): 346104,\n",
       " (9, 9): 12870,\n",
       " (9, 10): 24310,\n",
       " (9, 11): 43758,\n",
       " (9, 12): 75582,\n",
       " (9, 13): 125970,\n",
       " (9, 14): 203490,\n",
       " (9, 15): 319770,\n",
       " (9, 16): 490314,\n",
       " (9, 17): 735471,\n",
       " (9, 18): 1081575,\n",
       " (10, 10): 48620,\n",
       " (10, 11): 92378,\n",
       " (10, 12): 167960,\n",
       " (10, 13): 293930,\n",
       " (10, 14): 497420,\n",
       " (10, 15): 817190,\n",
       " (10, 16): 1307504,\n",
       " (10, 17): 2042975,\n",
       " (10, 18): 3124550,\n",
       " (11, 11): 184756,\n",
       " (11, 12): 352716,\n",
       " (11, 13): 646646,\n",
       " (11, 14): 1144066,\n",
       " (11, 15): 1961256,\n",
       " (11, 16): 3268760,\n",
       " (11, 17): 5311735,\n",
       " (11, 18): 8436285,\n",
       " (12, 12): 705432,\n",
       " (12, 13): 1352078,\n",
       " (12, 14): 2496144,\n",
       " (12, 15): 4457400,\n",
       " (12, 16): 7726160,\n",
       " (12, 17): 13037895,\n",
       " (12, 18): 21474180,\n",
       " (13, 13): 2704156,\n",
       " (13, 14): 5200300,\n",
       " (13, 15): 9657700,\n",
       " (13, 16): 17383860,\n",
       " (13, 17): 30421755,\n",
       " (13, 18): 51895935,\n",
       " (14, 14): 10400600,\n",
       " (14, 15): 20058300,\n",
       " (14, 16): 37442160,\n",
       " (14, 17): 67863915,\n",
       " (14, 18): 119759850,\n",
       " (15, 15): 40116600,\n",
       " (15, 16): 77558760,\n",
       " (15, 17): 145422675,\n",
       " (15, 18): 265182525,\n",
       " (16, 16): 155117520,\n",
       " (16, 17): 300540195,\n",
       " (16, 18): 565722720,\n",
       " (17, 17): 601080390,\n",
       " (17, 18): 1166803110,\n",
       " (18, 18): 2333606220}"
      ]
     },
     "execution_count": 130,
     "metadata": {},
     "output_type": "execute_result"
    }
   ],
   "source": [
    "print(type(grid_traveler.__defaults__[0]))\n",
    "grid_traveler.__defaults__[0]"
   ]
  },
  {
   "cell_type": "markdown",
   "id": "47053310",
   "metadata": {},
   "source": [
    "how_sum\n",
    "---\n",
    "\n",
    "Find *any way* to create the target integer `m` using the elements in `n`, with replacement.\n",
    "\n",
    "We can return early as soon as we find a complete path. \n"
   ]
  },
  {
   "cell_type": "code",
   "execution_count": 16,
   "id": "dca11581",
   "metadata": {},
   "outputs": [
    {
     "name": "stdout",
     "output_type": "stream",
     "text": [
      "[3, 2, 2]\n",
      "[3, 2, 2]\n",
      "[2, 2, 2, 2]\n",
      "\n",
      "None\n",
      "None\n"
     ]
    }
   ],
   "source": [
    "\n",
    "def how_sum(m:int, n:list, memo=dict()):\n",
    "    '''return one possible combination of sub-arrays in `n` which sum to produce `m` '''\n",
    "    # Base case; you've removed a sub-array from m and m is now 0; you win.\n",
    "    if m == 0:\n",
    "        return []\n",
    "    # Base failure case; you've removed a sub-array from m and m is now less than 0; you lose.\n",
    "    if m < 0:\n",
    "        return None\n",
    "    \n",
    "    # If you've done this before, don't.\n",
    "    if m in memo:\n",
    "        return memo[m]\n",
    "    \n",
    "    # iterate through elements in n.\n",
    "    for num in n:\n",
    "        remainder = m - num # create all possible remainders.\n",
    "        chain = how_sum(remainder, n, memo) # for each remainder, create a chain recursive call.\n",
    "        if chain is not None:            # when one eventually resolves, concatenate with this node and pass upwards\n",
    "            result = chain + [num]       #\n",
    "            memo[m] = result             # store the result and return it\n",
    "            return result\n",
    "        \n",
    "        else:                           # if the recursive call finishes and has no hits, this node is also a dud.\n",
    "            memo[m] = None\n",
    "    \n",
    "    \n",
    "print(how_sum(7, [2,3]))\n",
    "print(how_sum(7, [5,4])) # INCORRECT returned list.\n",
    "print(wrapper(how_sum,8, [2,3,5])) # this is correct, but the longest possible combination...\n",
    "print()\n",
    "print(wrapper(how_sum,7, [4,6]))\n",
    "print(wrapper(how_sum,300, [7, 14])) # from inside the wrapper, these calls correctly return None."
   ]
  },
  {
   "cell_type": "markdown",
   "id": "1c67dc02",
   "metadata": {},
   "source": [
    "best_sum\n",
    "---\n",
    "Find the shortest combination of elements in `n` which sum to target integer `m`.\n",
    "\n",
    "We'll have to exhaust every combination of our tree and examine each possible outcome. "
   ]
  },
  {
   "cell_type": "code",
   "execution_count": 17,
   "id": "4ba6dad6",
   "metadata": {},
   "outputs": [
    {
     "name": "stdout",
     "output_type": "stream",
     "text": [
      "[5, 5]\n",
      "[7]\n",
      "[4, 4]\n",
      "[25, 25, 25, 25]\n",
      "[100]\n",
      "[5, 5, 55, 55, 55, 55, 55, 55, 55, 55, 55, 55, 55, 55, 55, 55, 55, 55, 55, 55]\n"
     ]
    }
   ],
   "source": [
    "def best_sum(m:int, n:list, memo=dict()):\n",
    "    \"\"\"accept:\n",
    "        m: int -> the target sum\n",
    "        n: list: -> a list of integers with which to create the sum\n",
    "        memo: dict -> defaults to an empty dictionary. To save results simply\n",
    "        pass another dictionary.\n",
    "        \n",
    "        returns:\n",
    "             the shortest possible array of numbers from `n` which sum to `m`\n",
    "     \n",
    "     \"\"\"\n",
    "    # Base Case: Win; you've called recursively with an m value of 0.\n",
    "    if m == 0:\n",
    "        return []\n",
    "    # Base Case: Lose; you've gone too far.\n",
    "    if m < 0:\n",
    "        return None\n",
    "    if m in memo:\n",
    "        return memo[m]\n",
    "    \n",
    "    shortest = None # could easily be adapted to also provide the Longest combination\n",
    "    \n",
    "    for num in n:\n",
    "        remainder = m - num\n",
    "        chain = best_sum(remainder, n, memo) # returns a list, or None\n",
    "\n",
    "        if chain is not None:\n",
    "            combination = chain + [num] # chain returns as the shortest combination of the recursive call below\n",
    "\n",
    "            if shortest == None: # first time through\n",
    "                shortest = combination\n",
    "            if len(combination) < len(shortest): # check that this combination is the shortest one.\n",
    "                shortest = combination\n",
    "         \n",
    "            memo[m] = shortest # store in memory\n",
    "    \n",
    "    return shortest # return the shortest combination. \n",
    "\n",
    "\n",
    "## Example using wrapper\n",
    "print(wrapper(best_sum, 10, [1,2,3,4,5]))\n",
    "print(wrapper(best_sum, 7, [3,4,5,7]))\n",
    "print(wrapper(best_sum, 8, [1,4,5]))\n",
    "print(wrapper(best_sum, 100, [1,5,25]))\n",
    "print(wrapper(best_sum, 100, [1,5,25,100])) # notice that this 100 is not saved.\n",
    "print(wrapper(best_sum, 1000, [17,55,1,5,25]))"
   ]
  },
  {
   "cell_type": "markdown",
   "id": "b19cd3da",
   "metadata": {},
   "source": [
    "can_construct\n",
    "---\n",
    "\n",
    "Indicate whether or not a target *string* `m` can be created using the (sub-)sequences in `n`, with replacement. \n",
    "\n",
    "Return a bool."
   ]
  },
  {
   "cell_type": "code",
   "execution_count": 18,
   "id": "2a68f59b",
   "metadata": {
    "scrolled": true
   },
   "outputs": [
    {
     "name": "stdout",
     "output_type": "stream",
     "text": [
      "True\n",
      "False\n",
      "True\n",
      "False\n"
     ]
    }
   ],
   "source": [
    "def can_construct(m:str, n:list, memo=dict()):\n",
    "    \"\"\" define a function can_construct:\n",
    "    accepts:\n",
    "        `m` : a sequence\n",
    "        `n` : list of (sub)sequences, which can be used with replacement\n",
    "        optional: a memo-ization object, or cache; to store the results of our recursive calls. Defaults to an empty dictionary.\n",
    "    returns:\n",
    "        boolean value; whether the m, `m`, can be created from the elements of list, `n`\n",
    "        \"\"\"\n",
    "        #### Base Case/Win Condition --> m sequence `m` goes to 0.\n",
    "            #### Return True.\n",
    "    if m == \"\":\n",
    "        memo[m] = True\n",
    "        return True\n",
    "    \n",
    "        #### Early Return --> Already in Memo\n",
    "    if m in memo:\n",
    "        return memo[m]\n",
    "    \n",
    "        #### Branch Logic;\n",
    "        #### Iterate through elements of sequence `n` and look for a prefix (match) with the current `m` value. Subtract it\n",
    "        #### and keeping going\n",
    "\n",
    "    for word in n:\n",
    "        if m.startswith(word): # if word is a prefix of m;\n",
    "            chain = can_construct(m[len(word):], n) # call recursively on the remainder of the list\n",
    "            if chain == True: # Return early on the first True\n",
    "                memo[m] = True \n",
    "                return True\n",
    "\n",
    "        # If the whole chain isn't true by the end of the loops;\n",
    "        # save this `m` value in memory as False and return False\n",
    "    memo[m] = False\n",
    "    return False\n",
    "\n",
    "\n",
    "\n",
    "print(wrapper(can_construct, 'abcdef', ['ab', 'abc', 'cd', 'def', 'abcd', 'f']))\n",
    "print(wrapper(can_construct, 'skateboard', ['bo', 'rd', 'ate','t','ska','sk','boar']))\n",
    "print(wrapper(can_construct, 'enterapotentpot', ['a','p','ent','enter','ot','o','t']))\n",
    "print(wrapper(can_construct, 'eeeeeeeeeeeeeeeeeeeeeeeeeeeeeeeeeeeeeeeeeeeeeef', ['e','ee','eee','eeee','eeeee','eeeeee']))\n"
   ]
  },
  {
   "cell_type": "markdown",
   "id": "e532e474",
   "metadata": {},
   "source": [
    "allConstruct\n",
    "---\n",
    "Return **all possible** combinations of the elements in `n` which can create the sequence `m`.\n",
    "\n",
    "We'll have to calculate the whole tree to check all combinations."
   ]
  },
  {
   "cell_type": "code",
   "execution_count": 29,
   "id": "b7236829",
   "metadata": {},
   "outputs": [
    {
     "name": "stdout",
     "output_type": "stream",
     "text": [
      "[['purp', 'le'], ['p', 'urple']]\n",
      "[['ab', 'cd', 'ef'], ['abc', 'def'], ['abcd', 'ef']]\n",
      "[]\n",
      "[['enter', 'a', 'p', 'ot', 'ent', 'p', 'ot'], ['enter', 'a', 'p', 'ot', 'ent', 'p', 'o', 't'], ['enter', 'a', 'p', 'o', 't', 'ent', 'p', 'ot'], ['enter', 'a', 'p', 'o', 't', 'ent', 'p', 'o', 't']]\n",
      "[]\n"
     ]
    }
   ],
   "source": [
    "def all_construct(m, n):\n",
    "    \"\"\" \n",
    "    accepts:\n",
    "        m: a string\n",
    "        n: a list of (sub-)strings, which can be used with replacement\n",
    "\n",
    "    returns:\n",
    "        2-D array of all combinations of n which produce m\n",
    "        \"\"\"\n",
    "        # Base Case; you've removed elements and found str(len(0)). You win.\n",
    "    if m == \"\":\n",
    "        return [[]]\n",
    "    \n",
    "        # container to hold all possible combinations\n",
    "    results = []\n",
    "    for word in n:\n",
    "        if m.startswith(word): # for this 'suffix', `m`;\n",
    "            results += [[word] + x for x in all_construct(m[len(word):], n)] \n",
    "                        # prepend word to each inner list of the list returned by the recursive call\n",
    "            # for each nested list returned from the recursive call, add this word to that list and pass \n",
    "            # the full list of combinations from this node upwards.\n",
    "\n",
    "        # return the container of all possible combinations from this node's branches and leaves. \n",
    "    return results\n",
    "\n",
    "\n",
    "print(all_construct('purple', ['purp', 'le', 'p', 'urple', 'e']))\n",
    "\n",
    "print(all_construct('abcdef', ['ab', 'abc', 'cd', 'def', 'abcd', 'ef']))\n",
    "print(all_construct('skateboard', ['bo', 'rd', 'ate','t','ska','sk','boar']))\n",
    "print(all_construct('enterapotentpot', ['a','p','ent','enter','ot','o','t']))\n",
    "print(all_construct('eeeeeeeeeeeeeeeeeeeeeef', ['e','ee','eee','eeee','eeeee','eeeeee']))\n"
   ]
  },
  {
   "cell_type": "markdown",
   "id": "963c1175",
   "metadata": {},
   "source": [
    "---"
   ]
  },
  {
   "cell_type": "markdown",
   "id": "66b8a801",
   "metadata": {},
   "source": [
    "# Tabulation"
   ]
  },
  {
   "cell_type": "markdown",
   "id": "5de614e7",
   "metadata": {},
   "source": [
    "Tabulation involves using a table to create an ordered, progressive solution for a problem.\n",
    "\n",
    "Alvin's rules for tabulation are as below:\n",
    "\n",
    "    -visualize the problem as a table\n",
    "    -size the table based on the inputs (usually length of target, m)\n",
    "    -initialize the table with default values\n",
    "    -seed the trivial answer into the table\n",
    "    -fill further positions based on the current position\n",
    "    \n",
    "For these purposes, I'll bring in pandas and numpy :)"
   ]
  },
  {
   "cell_type": "code",
   "execution_count": 20,
   "id": "ac00b953",
   "metadata": {},
   "outputs": [],
   "source": [
    "import pandas as pd\n",
    "import numpy as np"
   ]
  },
  {
   "cell_type": "markdown",
   "id": "7446115a",
   "metadata": {},
   "source": [
    "Fibonacci\n",
    "---\n"
   ]
  },
  {
   "cell_type": "code",
   "execution_count": 21,
   "id": "ceb8707c",
   "metadata": {},
   "outputs": [
    {
     "name": "stdout",
     "output_type": "stream",
     "text": [
      "5\n",
      "139583862445\n",
      "43516638122555047989641805373140394725407202037260729735885664398655775748034950972577909265605502785297675867877570\n"
     ]
    }
   ],
   "source": [
    "def fib(n):\n",
    "    current, previous = 0, 1\n",
    "    for x in range(n):\n",
    "        current, previous = current + previous, current # quick and easy tuple unpacking.\n",
    "    return current\n",
    "print(fib(5))\n",
    "print(fib(55))\n",
    "print(fib(555))"
   ]
  },
  {
   "cell_type": "markdown",
   "id": "243c8a26",
   "metadata": {},
   "source": [
    "tab_grid_traveler\n",
    "---"
   ]
  },
  {
   "cell_type": "code",
   "execution_count": 32,
   "id": "54eea1b0",
   "metadata": {},
   "outputs": [
    {
     "data": {
      "text/plain": [
       "6.0"
      ]
     },
     "metadata": {},
     "output_type": "display_data"
    },
    {
     "data": {
      "text/plain": [
       "252.0"
      ]
     },
     "metadata": {},
     "output_type": "display_data"
    },
    {
     "data": {
      "text/plain": [
       "2333606220.0"
      ]
     },
     "execution_count": 32,
     "metadata": {},
     "output_type": "execute_result"
    }
   ],
   "source": [
    "def tab_grid_traveler(m, n):\n",
    "    '''accept:\n",
    "            cartesian coordinates (m, n)\n",
    "            \n",
    "        return:\n",
    "            number of paths to (1,1)\n",
    "    '''\n",
    "    mat = np.zeros((m+1, n+1)) # form the grid\n",
    "    table = pd.DataFrame(mat)\n",
    "    start = table.iloc[1,1] = 1 # seed the table\n",
    "    for rowidx, row in table.iterrows(): \n",
    "        for colidx, col in enumerate(row): # for each position, moving from top left;\n",
    "            try:\n",
    "                table.iloc[rowidx+1, colidx] += table.iloc[rowidx, colidx] # add the cell values to the one below\n",
    "            except:\n",
    "                pass        # naive exception handling deals with moving out-of-bounds\n",
    "            try:\n",
    "                table.iloc[rowidx, colidx+1] += table.iloc[rowidx, colidx] # add the cell values to the one to the right\n",
    "            except:\n",
    "                pass\n",
    "   \n",
    "    \n",
    "    return table.iloc[-1,-1] # can be easily modified to return the actual df; currently returns the count at (1,1)\n",
    "\n",
    "\n",
    "display(tab_grid_traveler(3,3))\n",
    "display(tab_grid_traveler(6,6))\n",
    "tab_grid_traveler(18,18)"
   ]
  },
  {
   "cell_type": "markdown",
   "id": "343f838e",
   "metadata": {},
   "source": [
    "tab_can_sum\n",
    "---\n"
   ]
  },
  {
   "cell_type": "code",
   "execution_count": 1,
   "id": "ebe9a34c",
   "metadata": {},
   "outputs": [
    {
     "ename": "NameError",
     "evalue": "name 'pd' is not defined",
     "output_type": "error",
     "traceback": [
      "\u001b[1;31m---------------------------------------------------------------------------\u001b[0m",
      "\u001b[1;31mNameError\u001b[0m                                 Traceback (most recent call last)",
      "\u001b[1;32m~\\AppData\\Local\\Temp/ipykernel_8844/31988519.py\u001b[0m in \u001b[0;36m<module>\u001b[1;34m\u001b[0m\n\u001b[0;32m     20\u001b[0m     \u001b[1;32mreturn\u001b[0m  \u001b[0marr\u001b[0m\u001b[1;33m.\u001b[0m\u001b[0mindex\u001b[0m\u001b[1;33m[\u001b[0m\u001b[0mm\u001b[0m\u001b[1;33m]\u001b[0m\u001b[1;33m,\u001b[0m \u001b[0marr\u001b[0m\u001b[1;33m[\u001b[0m\u001b[0mm\u001b[0m\u001b[1;33m]\u001b[0m\u001b[1;33m\u001b[0m\u001b[1;33m\u001b[0m\u001b[0m\n\u001b[0;32m     21\u001b[0m \u001b[1;33m\u001b[0m\u001b[0m\n\u001b[1;32m---> 22\u001b[1;33m \u001b[0mprint\u001b[0m\u001b[1;33m(\u001b[0m\u001b[0mtab_can_sum\u001b[0m\u001b[1;33m(\u001b[0m\u001b[1;36m7\u001b[0m\u001b[1;33m,\u001b[0m \u001b[1;33m[\u001b[0m\u001b[1;36m5\u001b[0m\u001b[1;33m,\u001b[0m\u001b[1;36m3\u001b[0m\u001b[1;33m,\u001b[0m\u001b[1;36m4\u001b[0m\u001b[1;33m]\u001b[0m\u001b[1;33m)\u001b[0m\u001b[1;33m)\u001b[0m\u001b[1;33m\u001b[0m\u001b[1;33m\u001b[0m\u001b[0m\n\u001b[0m\u001b[0;32m     23\u001b[0m \u001b[0mprint\u001b[0m\u001b[1;33m(\u001b[0m\u001b[0mtab_can_sum\u001b[0m\u001b[1;33m(\u001b[0m\u001b[1;36m300\u001b[0m\u001b[1;33m,\u001b[0m \u001b[1;33m[\u001b[0m\u001b[1;36m7\u001b[0m\u001b[1;33m,\u001b[0m\u001b[1;36m14\u001b[0m\u001b[1;33m]\u001b[0m\u001b[1;33m)\u001b[0m\u001b[1;33m)\u001b[0m\u001b[1;33m\u001b[0m\u001b[1;33m\u001b[0m\u001b[0m\n",
      "\u001b[1;32m~\\AppData\\Local\\Temp/ipykernel_8844/31988519.py\u001b[0m in \u001b[0;36mtab_can_sum\u001b[1;34m(m, n)\u001b[0m\n\u001b[0;32m     10\u001b[0m          \u001b[1;32mwith\u001b[0m \u001b[0mreplacement\u001b[0m\u001b[1;33m\u001b[0m\u001b[1;33m\u001b[0m\u001b[0m\n\u001b[0;32m     11\u001b[0m      '''\n\u001b[1;32m---> 12\u001b[1;33m     \u001b[0marr\u001b[0m \u001b[1;33m=\u001b[0m \u001b[0mpd\u001b[0m\u001b[1;33m.\u001b[0m\u001b[0mSeries\u001b[0m\u001b[1;33m(\u001b[0m\u001b[1;32mFalse\u001b[0m\u001b[1;33m,\u001b[0m \u001b[0mindex\u001b[0m\u001b[1;33m=\u001b[0m\u001b[0mrange\u001b[0m\u001b[1;33m(\u001b[0m\u001b[0mm\u001b[0m\u001b[1;33m+\u001b[0m\u001b[1;36m1\u001b[0m\u001b[1;33m)\u001b[0m\u001b[1;33m)\u001b[0m \u001b[1;31m# starting at base case 0 (index 0);\u001b[0m\u001b[1;33m\u001b[0m\u001b[1;33m\u001b[0m\u001b[0m\n\u001b[0m\u001b[0;32m     13\u001b[0m     \u001b[0marr\u001b[0m\u001b[1;33m[\u001b[0m\u001b[1;36m0\u001b[0m\u001b[1;33m]\u001b[0m \u001b[1;33m=\u001b[0m \u001b[1;32mTrue\u001b[0m \u001b[1;31m# seed True value at m==0;\u001b[0m\u001b[1;33m\u001b[0m\u001b[1;33m\u001b[0m\u001b[0m\n\u001b[0;32m     14\u001b[0m     \u001b[1;32mfor\u001b[0m \u001b[0midx\u001b[0m\u001b[1;33m,\u001b[0m \u001b[0mval\u001b[0m \u001b[1;32min\u001b[0m \u001b[0menumerate\u001b[0m\u001b[1;33m(\u001b[0m\u001b[0marr\u001b[0m\u001b[1;33m)\u001b[0m\u001b[1;33m:\u001b[0m\u001b[1;33m\u001b[0m\u001b[1;33m\u001b[0m\u001b[0m\n",
      "\u001b[1;31mNameError\u001b[0m: name 'pd' is not defined"
     ]
    }
   ],
   "source": [
    "def tab_can_sum(m, n):\n",
    "    '''\n",
    "    accept:\n",
    "    m; integer\n",
    "    n; list of integers\n",
    "    \n",
    "    return:\n",
    "     ; bool\n",
    "         whether or not the target sum, `m`, can be constructed using the elements of `n`\n",
    "         with replacement\n",
    "     '''\n",
    "    arr = pd.Series(False, index=range(m+1)) # starting at base case 0 (index 0);\n",
    "    arr[0] = True # seed True value at m==0;\n",
    "    for idx, val in enumerate(arr): \n",
    "        if val == True: # if the cell has been seeded;\n",
    "            for num in n: \n",
    "                if not idx+num > m: # if the resulting index is not out of bounds;\n",
    "                    arr[idx+num] = True # seed the cell\n",
    "    \n",
    "    return  arr.index[m], arr[m]\n",
    "\n",
    "print(tab_can_sum(7, [5,3,4]))\n",
    "print(tab_can_sum(300, [7,14]))"
   ]
  },
  {
   "cell_type": "markdown",
   "id": "abd01bd4",
   "metadata": {},
   "source": [
    "tab_how_sum\n",
    "---"
   ]
  },
  {
   "cell_type": "code",
   "execution_count": 72,
   "id": "01c98209",
   "metadata": {},
   "outputs": [
    {
     "name": "stdout",
     "output_type": "stream",
     "text": [
      "[3, 3, 1]\n",
      "[5, 3]\n",
      "[7]\n",
      "[]\n",
      "[25, 25, 25, 25]\n",
      "[31, 31, 31, 5, 2]\n"
     ]
    }
   ],
   "source": [
    "def tab_how_sum(m, n):\n",
    "    '''\n",
    "          stores only one value in each cell.\n",
    "        iterates backwards over the list to 'pick up' the stored values.\n",
    "    \n",
    "    accepts:\n",
    "            m: integer\n",
    "            n: list of integers\n",
    "        returns:\n",
    "            one possible combination of elements from `n`, with replacement, which sum to produce `m`.\n",
    "            \n",
    "      \n",
    "    '''\n",
    "    \n",
    "\n",
    "    # create table\n",
    "    arr = [None for x in range(m+1)] # we're summing to a number, index m+1\n",
    "    arr[0] = [] # seed the table. this is our winning 'base case'.\n",
    "    \n",
    "        # container for return values\n",
    "    output = []\n",
    "    \n",
    "\n",
    "    for idx, val in enumerate(arr):\n",
    "        if val is not None: # if you're at a proven viable position; \n",
    "            for num in n: # for each element in `n`.\n",
    "                if idx+num < len(arr): # limit so you won't move out of bounds;\n",
    "                    \n",
    "                    if arr[idx+num] is not None:\n",
    "                        if num > arr[idx+num]: ####### check if the stored value is the largest... \n",
    "                                                ############ this isn't Necessarily the best route, but it is the biggest step.\n",
    "                                \n",
    "                            arr[idx+num] = num # assign the number that got you there to the resulting index.\n",
    "                    else:\n",
    "                        arr[idx+num] = num # assign the number that got you there to the resulting index.\n",
    "\n",
    "                    \n",
    "                    \n",
    "            # then simply iterate backwards and pick up your numbers.\n",
    "    if arr[m] is not None:\n",
    "        position = m\n",
    "        while position != 0:\n",
    "            output.append(arr[position])\n",
    "            position = position - arr[position] \n",
    "    return output\n",
    "\n",
    "\n",
    "print(tab_how_sum(7, [1,2,3]))\n",
    "print(tab_how_sum(8, [2,3,5]))\n",
    "print(tab_how_sum(7, [5,3,4, 7]))\n",
    "print(tab_how_sum(300, [7,14])) # Returns an empty list instead of None\n",
    "print(tab_how_sum(100, [1,2,5,25]))\n",
    "print(tab_how_sum(100, [1,2,5,25,31])) # note that this does not correctly identify [25,25,25,25] as the best solution\n",
    "\n"
   ]
  },
  {
   "cell_type": "code",
   "execution_count": 77,
   "id": "0a61faec",
   "metadata": {},
   "outputs": [
    {
     "name": "stdout",
     "output_type": "stream",
     "text": [
      "[3, 2, 2]\n",
      "[2, 2, 2, 2]\n",
      "[4, 3]\n",
      "None\n",
      "[1, 1, 1, 1, 1, 1, 1, 1, 1, 1, 1, 1, 1, 1, 1, 1, 1, 1, 1, 1, 1, 1, 1, 1, 1, 1, 1, 1, 1, 1, 1, 1, 1, 1, 1, 1, 1, 1, 1, 1, 1, 1, 1, 1, 1, 1, 1, 1, 1, 1, 1, 1, 1, 1, 1, 1, 1, 1, 1, 1, 1, 1, 1, 1, 1, 1, 1, 1, 1, 1, 1, 1, 1, 1, 1, 1, 1, 1, 1, 1, 1, 1, 1, 1, 1, 1, 1, 1, 1, 1, 1, 1, 1, 1, 1, 1, 1, 1, 1, 1]\n",
      "[1, 1, 1, 1, 1, 1, 1, 1, 1, 1, 1, 1, 1, 1, 1, 1, 1, 1, 1, 1, 1, 1, 1, 1, 1, 1, 1, 1, 1, 1, 1, 1, 1, 1, 1, 1, 1, 1, 1, 1, 1, 1, 1, 1, 1, 1, 1, 1, 1, 1, 1, 1, 1, 1, 1, 1, 1, 1, 1, 1, 1, 1, 1, 1, 1, 1, 1, 1, 1, 1, 1, 1, 1, 1, 1, 1, 1, 1, 1, 1, 1, 1, 1, 1, 1, 1, 1, 1, 1, 1, 1, 1, 1, 1, 1, 1, 1, 1, 1, 1]\n"
     ]
    }
   ],
   "source": [
    "def tab_how_sum2(m, n):\n",
    "    ''''version two!\n",
    "         instead of iterating backwards to 'pick up' the elements, it concatenates them in the forward iteration\n",
    "        (no chance to filter)    \n",
    "        \n",
    "    accepts:\n",
    "            m: integer\n",
    "            n: list of integers\n",
    "        returns:\n",
    "            one possible combination of elements from `n`, with replacement, which sum to produce `m`.\n",
    "            \n",
    "               \n",
    "    '''\n",
    "    \n",
    "    arr = [None for x in range(m+1)] # we're summing to a number, index m+1M\n",
    "    arr[0] = [] # seed the table\n",
    "\n",
    "    for idx, val in enumerate(arr): \n",
    "        if val is not None: \n",
    "            for num in n:\n",
    "                if idx+num < len(arr):\n",
    "                    if arr[idx+num] == None:\n",
    "                        arr[idx+num] = val + [num]  \n",
    "                    else:  \n",
    "                        arr[idx+num] = val + [num]\n",
    "                        \n",
    "                        \n",
    "    return arr[m]\n",
    "\n",
    "print(tab_how_sum2(7, [2,3]))\n",
    "print(tab_how_sum2(8, [2,3,5]))\n",
    "print(tab_how_sum2(7, [5,3,4, 7]))\n",
    "print(tab_how_sum2(300, [7,14])) # Returns None instead of an empty list\n",
    "print(tab_how_sum2(100, [1,2,5,25]))\n",
    "print(tab_how_sum2(100, [1,2,5,25,31])) # this solution is much more naive\n",
    "\n"
   ]
  },
  {
   "cell_type": "markdown",
   "id": "01fbd05c",
   "metadata": {},
   "source": [
    "tab_best_sum\n",
    "---\n",
    "\n",
    "Synthesis of the two answers to tab_how_sum, above."
   ]
  },
  {
   "cell_type": "code",
   "execution_count": 80,
   "id": "439c0cd4",
   "metadata": {},
   "outputs": [
    {
     "name": "stdout",
     "output_type": "stream",
     "text": [
      "[2, 2, 3]\n",
      "[3, 5]\n",
      "[7]\n",
      "[25, 25, 25, 25]\n",
      "[25, 25, 25, 25]\n"
     ]
    }
   ],
   "source": [
    "def tab_best_sum(m, n):\n",
    "    ''' accepts:\n",
    "            m: an integer\n",
    "            n: a list of integers\n",
    "    \n",
    "    returns:\n",
    "        the SHORTEST combination of elements of `n` which sum to `m`\n",
    "    '''\n",
    "    output = []\n",
    "    arr = [None for x in range(m+1)] \n",
    "    arr[0] = [] \n",
    "\n",
    "    for idx, val in enumerate(arr): \n",
    "        if val is not None:\n",
    "            for num in n:\n",
    "                if idx+num < len(arr):\n",
    "                    if arr[idx+num] == None:\n",
    "                        arr[idx+num] = val + [num]  \n",
    "                    elif len(val + [num]) < len(arr[idx+num]):#### Add condition \n",
    "                                                              #### (that the replacement is shorter)\n",
    "                        arr[idx+num] = val + [num]\n",
    "\n",
    "    return arr[m]\n",
    "\n",
    "\n",
    "print(tab_best_sum(7, [2,3]))\n",
    "print(tab_best_sum(8, [2,3,5]))\n",
    "print(tab_best_sum(7, [5,3,4, 7]))\n",
    "print(tab_best_sum(100, [1,2,5,25]))\n",
    "print(tab_best_sum(100, [1,2,5,25,31])) # this solution correctly identifies the length of each substep \n",
    "                                        # (intead of just the value of its most recent step, as in tab_how_sum)"
   ]
  },
  {
   "cell_type": "markdown",
   "id": "6868a20a",
   "metadata": {},
   "source": [
    "tab_can_construct\n",
    "---"
   ]
  },
  {
   "cell_type": "code",
   "execution_count": 38,
   "id": "43ad48a0",
   "metadata": {},
   "outputs": [
    {
     "data": {
      "text/plain": [
       "True"
      ]
     },
     "execution_count": 38,
     "metadata": {},
     "output_type": "execute_result"
    }
   ],
   "source": [
    "import pandas as pd\n",
    "def tab_can_construct(m, n):\n",
    "    '''accept:\n",
    "            m: a string\n",
    "            n: a list of strings\n",
    "            \n",
    "        return:\n",
    "            BOOL \n",
    "            \n",
    "            whether or not the target string`m`\n",
    "            can be constructed \n",
    "            using the elements from `n `\n",
    "            with replacement'''\n",
    " \n",
    "\n",
    "    # create table of length target string + 1\n",
    "    arr = pd.Series(index=[x for x in m] + ['Final'], data = False)\n",
    "    arr[0] = True # seed the viable case\n",
    "    \n",
    "    for idx, (key, val) in zip(range(len(m)+1), arr.iteritems()): # for each possible starting position\n",
    "        if arr[idx] == True: # if it has been proven viable (we move right-wise)\n",
    "            current_letter = arr.index[idx]            \n",
    "            for sub in n: # check each subsequence in n   \n",
    "                if sub.startswith(current_letter) and (idx+len(sub) < len(arr)):\n",
    "                    arr[idx+len(sub)] = True\n",
    "    return arr[-1]\n",
    "\n",
    "tab_can_construct('abcdef', ['ab', 'abc', 'cd', 'def', 'abcd'])"
   ]
  },
  {
   "cell_type": "markdown",
   "id": "5118a204",
   "metadata": {},
   "source": [
    "tab_count_construct\n",
    "---\n"
   ]
  },
  {
   "cell_type": "code",
   "execution_count": 62,
   "id": "3c95e3bc",
   "metadata": {
    "scrolled": true
   },
   "outputs": [
    {
     "name": "stdout",
     "output_type": "stream",
     "text": [
      "1\n",
      "1612\n",
      "17\n"
     ]
    }
   ],
   "source": [
    "def tab_count_construct(m, n):\n",
    "    '''accept:\n",
    "            m: a string\n",
    "            n: a list of strings\n",
    "            \n",
    "        return:\n",
    "                INT\n",
    "                \n",
    "            HOW MANY WAYS `m`can be constructed \n",
    "            using the elements from `n `\n",
    "            with replacement'''\n",
    " \n",
    "\n",
    "    # create table of length target string + 1\n",
    "    arr = pd.Series(index=[x for x in m] + ['Final'], data = 0)\n",
    "    arr[0] = 1 # seed the viable case\n",
    "    \n",
    "    for idx, (key, val) in zip(range(len(m)+1), arr.iteritems()): # for each possible starting position\n",
    "        if arr[idx] > 0: # if it has been proven viable (we move right-wise)\n",
    "            for sub in n:\n",
    "                    # determine potential next index, based on subsequences in n\n",
    "                next_index = idx+len(sub)\n",
    "                    # check each subsequence in n against the suffix (m[idx:next_index]) \n",
    "                    # if the substring matches; and the next_index is valid;\n",
    "                if sub == m[idx:next_index] and (next_index < len(arr)): #len is indexed from 1\n",
    "                    arr[idx+len(sub)] += arr[idx] \n",
    "                        # add the paths to the next index\n",
    "    return arr[-1]\n",
    "\n",
    "print(tab_count_construct('abcdef', ['ab', 'abc', 'cd', 'def', 'abcd']))\n",
    "print(tab_count_construct('eeeeeeeeeeeeeeeeef', ['ef', 'e', 'eeeeee','eee','eeee',]))\n",
    "print(tab_count_construct('eeeeeeeeeeeeeeeeef', ['eeeeeeeeeef', 'e', 'eeeeee','eee','eeee',]))"
   ]
  },
  {
   "cell_type": "markdown",
   "id": "d0e5b708",
   "metadata": {},
   "source": [
    "tab_all_construct\n",
    "---\n",
    "\n",
    "Create a table containing all possible ways to construct target string `m` from the sub-sequences in `n`, with replacement."
   ]
  },
  {
   "cell_type": "code",
   "execution_count": 64,
   "id": "ef5241a5",
   "metadata": {},
   "outputs": [
    {
     "name": "stdout",
     "output_type": "stream",
     "text": [
      "[['abc', 'def']]\n",
      "[['p', 'an', 'e', 'p', 'an', 'e', 'e', 'e', 'e', 'e']]\n",
      "1612\n",
      "17\n"
     ]
    }
   ],
   "source": [
    "def tab_all_construct(m, n):\n",
    "    '''accept:\n",
    "            m: a string\n",
    "            n: a list of strings\n",
    "            \n",
    "        return:\n",
    "            2-D array of ALL WAYS `m`can be constructed \n",
    "            using the elements from `n `\n",
    "            with replacement'''\n",
    "    n = set(n)\n",
    "    m_string = [x for x in m] + ['Final'] # m+1\n",
    "    arr = [None for x in m_string] # matching list\n",
    "    arr[0] = [[]] # seed the viable case\n",
    "\n",
    "    for idx, char in enumerate(m_string):\n",
    "        suffix = m[idx:]\n",
    "        if isinstance(arr[idx], list): # a list; a viable path.\n",
    "            for sub in n: # check each subsequence in n\n",
    "                if suffix.startswith(sub):\n",
    "                    next_index = idx+len(sub)\n",
    "                    # everything in arr[idx] -> next_idx\n",
    "                    if arr[next_index] == None:    \n",
    "                        arr[next_index] = [x+[sub] for x in arr[idx]]\n",
    "                    else:\n",
    "                        arr[next_index] += [x+[sub] for x in arr[idx]]\n",
    "\n",
    "    return pd.Series(arr, index=m_string)[-1]\n",
    "\n",
    "\n",
    "\n",
    "print(tab_all_construct('abcdef', ['ab', 'abc', 'cd', 'def', 'abcd']))\n",
    "print(tab_all_construct('panepaneeeee', ['p','an','e']))\n",
    "\n",
    "print(len(tab_all_construct('eeeeeeeeeeeeeeeeef', ['ef', 'e', 'eeeeee','eee','eeee',])))\n",
    "print(len(tab_all_construct('eeeeeeeeeeeeeeeeef', ['eeeeeeeeeef', 'e', 'eeeeee','eee','eeee',])))"
   ]
  },
  {
   "cell_type": "markdown",
   "id": "b5a27ddf",
   "metadata": {},
   "source": [
    "These last three have all been coded to return only the last value, but the full tables/Series are available inside the function. "
   ]
  },
  {
   "cell_type": "code",
   "execution_count": null,
   "id": "25392613",
   "metadata": {},
   "outputs": [],
   "source": []
  }
 ],
 "metadata": {
  "kernelspec": {
   "display_name": "Python 3 (ipykernel)",
   "language": "python",
   "name": "python3"
  },
  "language_info": {
   "codemirror_mode": {
    "name": "ipython",
    "version": 3
   },
   "file_extension": ".py",
   "mimetype": "text/x-python",
   "name": "python",
   "nbconvert_exporter": "python",
   "pygments_lexer": "ipython3",
   "version": "3.9.7"
  },
  "toc": {
   "base_numbering": 1,
   "nav_menu": {},
   "number_sections": true,
   "sideBar": true,
   "skip_h1_title": false,
   "title_cell": "Table of Contents",
   "title_sidebar": "Contents",
   "toc_cell": false,
   "toc_position": {},
   "toc_section_display": true,
   "toc_window_display": false
  },
  "varInspector": {
   "cols": {
    "lenName": 16,
    "lenType": 16,
    "lenVar": 40
   },
   "kernels_config": {
    "python": {
     "delete_cmd_postfix": "",
     "delete_cmd_prefix": "del ",
     "library": "var_list.py",
     "varRefreshCmd": "print(var_dic_list())"
    },
    "r": {
     "delete_cmd_postfix": ") ",
     "delete_cmd_prefix": "rm(",
     "library": "var_list.r",
     "varRefreshCmd": "cat(var_dic_list()) "
    }
   },
   "types_to_exclude": [
    "module",
    "function",
    "builtin_function_or_method",
    "instance",
    "_Feature"
   ],
   "window_display": false
  }
 },
 "nbformat": 4,
 "nbformat_minor": 5
}
