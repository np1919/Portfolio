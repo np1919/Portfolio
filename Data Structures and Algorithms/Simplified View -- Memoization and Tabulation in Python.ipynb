{
 "cells": [
  {
   "cell_type": "markdown",
   "id": "29dbfea3",
   "metadata": {},
   "source": [
    "# Memoization; Recursive Solutions"
   ]
  },
  {
   "cell_type": "code",
   "execution_count": 4,
   "id": "daad7e96",
   "metadata": {},
   "outputs": [],
   "source": [
    "from Algorithms.recursive_solutions import wrapper, can_sum, grid_traveler, how_sum, best_sum, can_construct, all_construct\n",
    "all_recursive = [can_sum, grid_traveler, how_sum, best_sum, can_construct, all_construct]"
   ]
  },
  {
   "cell_type": "code",
   "execution_count": 5,
   "id": "82be896f",
   "metadata": {},
   "outputs": [
    {
     "data": {
      "text/plain": [
       "True"
      ]
     },
     "execution_count": 5,
     "metadata": {},
     "output_type": "execute_result"
    }
   ],
   "source": [
    "wrapper(can_sum,15,[3])"
   ]
  },
  {
   "cell_type": "code",
   "execution_count": 6,
   "id": "34a10563",
   "metadata": {},
   "outputs": [
    {
     "data": {
      "text/plain": [
       "155117520"
      ]
     },
     "execution_count": 6,
     "metadata": {},
     "output_type": "execute_result"
    }
   ],
   "source": [
    "wrapper(grid_traveler,16,16)"
   ]
  },
  {
   "cell_type": "code",
   "execution_count": 7,
   "id": "386c2e56",
   "metadata": {},
   "outputs": [
    {
     "data": {
      "text/plain": [
       "[3, 3, 3, 3, 3]"
      ]
     },
     "execution_count": 7,
     "metadata": {},
     "output_type": "execute_result"
    }
   ],
   "source": [
    "wrapper(how_sum, 15,[3])"
   ]
  },
  {
   "cell_type": "code",
   "execution_count": 9,
   "id": "3ac9b896",
   "metadata": {},
   "outputs": [
    {
     "data": {
      "text/plain": [
       "[5, 5, 5]"
      ]
     },
     "execution_count": 9,
     "metadata": {},
     "output_type": "execute_result"
    }
   ],
   "source": [
    "wrapper(best_sum, 15,[3,5])"
   ]
  },
  {
   "cell_type": "code",
   "execution_count": 8,
   "id": "e489e71a",
   "metadata": {},
   "outputs": [
    {
     "data": {
      "text/plain": [
       "True"
      ]
     },
     "execution_count": 8,
     "metadata": {},
     "output_type": "execute_result"
    }
   ],
   "source": [
    "wrapper(can_construct, \"aaaaaa\", [\"a\"])"
   ]
  },
  {
   "cell_type": "code",
   "execution_count": 12,
   "id": "1016e3e8",
   "metadata": {},
   "outputs": [
    {
     "data": {
      "text/plain": [
       "[['aaa', 'aaa', 'aaa', 'b']]"
      ]
     },
     "execution_count": 12,
     "metadata": {},
     "output_type": "execute_result"
    }
   ],
   "source": [
    "all_construct(\"aaaaaaaaab\", [\"aaa\",\"b\"])"
   ]
  },
  {
   "cell_type": "markdown",
   "id": "30b2559e",
   "metadata": {},
   "source": [
    "# Tabulation Solutions"
   ]
  },
  {
   "cell_type": "code",
   "execution_count": 12,
   "id": "533eca14",
   "metadata": {},
   "outputs": [],
   "source": [
    "from Algorithms.tabular_solutions import fib, tab_grid_traveler, tab_can_sum, tab_how_sum, tab_how_sum2, tab_best_sum, tab_can_construct, tab_count_construct, tab_all_construct\n",
    "all_tabular = [fib, tab_grid_traveler, tab_can_sum, tab_how_sum, tab_how_sum2, tab_best_sum, tab_can_construct, tab_count_construct, tab_all_construct]"
   ]
  },
  {
   "cell_type": "code",
   "execution_count": 3,
   "id": "50b3f537",
   "metadata": {},
   "outputs": [
    {
     "data": {
      "text/plain": [
       "610"
      ]
     },
     "execution_count": 3,
     "metadata": {},
     "output_type": "execute_result"
    }
   ],
   "source": [
    "fib(15)"
   ]
  },
  {
   "cell_type": "code",
   "execution_count": 4,
   "id": "fb2dc289",
   "metadata": {},
   "outputs": [
    {
     "data": {
      "text/plain": [
       "155117520"
      ]
     },
     "execution_count": 4,
     "metadata": {},
     "output_type": "execute_result"
    }
   ],
   "source": [
    "tab_grid_traveler(16,16)"
   ]
  },
  {
   "cell_type": "code",
   "execution_count": 5,
   "id": "0c804dbf",
   "metadata": {},
   "outputs": [
    {
     "data": {
      "text/plain": [
       "(14, False)"
      ]
     },
     "execution_count": 5,
     "metadata": {},
     "output_type": "execute_result"
    }
   ],
   "source": [
    "tab_can_sum(14, [12,7]) # True\n",
    "tab_can_sum(14, [12]) # False"
   ]
  },
  {
   "cell_type": "code",
   "execution_count": 6,
   "id": "5c4f1784",
   "metadata": {},
   "outputs": [
    {
     "data": {
      "text/plain": [
       "[7, 7]"
      ]
     },
     "execution_count": 6,
     "metadata": {},
     "output_type": "execute_result"
    }
   ],
   "source": [
    "tab_how_sum(14, [12,7])"
   ]
  },
  {
   "cell_type": "code",
   "execution_count": 7,
   "id": "f7c39ece",
   "metadata": {},
   "outputs": [
    {
     "data": {
      "text/plain": [
       "[7, 7]"
      ]
     },
     "execution_count": 7,
     "metadata": {},
     "output_type": "execute_result"
    }
   ],
   "source": [
    "tab_how_sum2(14,[12,7])"
   ]
  },
  {
   "cell_type": "code",
   "execution_count": 8,
   "id": "0cb1b349",
   "metadata": {},
   "outputs": [
    {
     "data": {
      "text/plain": [
       "[3, 11]"
      ]
     },
     "execution_count": 8,
     "metadata": {},
     "output_type": "execute_result"
    }
   ],
   "source": [
    "tab_best_sum(14, list(range(1,12,2)))"
   ]
  },
  {
   "cell_type": "code",
   "execution_count": 9,
   "id": "82159723",
   "metadata": {},
   "outputs": [
    {
     "data": {
      "text/plain": [
       "False"
      ]
     },
     "execution_count": 9,
     "metadata": {},
     "output_type": "execute_result"
    }
   ],
   "source": [
    "tab_can_construct(\"aaaaaaaaaaaaaaaaaaaaaaaaaaaab\", [\"aaa\",\"b\"])"
   ]
  },
  {
   "cell_type": "code",
   "execution_count": 10,
   "id": "74fa7cdc",
   "metadata": {},
   "outputs": [
    {
     "data": {
      "text/plain": [
       "0"
      ]
     },
     "execution_count": 10,
     "metadata": {},
     "output_type": "execute_result"
    }
   ],
   "source": [
    "tab_count_construct(\"aaaaaaaaaaaaaaaaaaaaaaaaaaaab\", [\"aaa\",\"b\"])"
   ]
  },
  {
   "cell_type": "code",
   "execution_count": 11,
   "id": "6f23781b",
   "metadata": {
    "scrolled": true
   },
   "outputs": [
    {
     "data": {
      "text/plain": [
       "[['aaaa', 'aaaa', 'aaaa', 'aaaa', 'aaaa', 'aaaa', 'aaaa', 'b']]"
      ]
     },
     "execution_count": 11,
     "metadata": {},
     "output_type": "execute_result"
    }
   ],
   "source": [
    "tab_all_construct(\"aaaaaaaaaaaaaaaaaaaaaaaaaaaab\", [\"aaaa\",\"b\"])"
   ]
  },
  {
   "cell_type": "code",
   "execution_count": null,
   "id": "b1f7aac0",
   "metadata": {},
   "outputs": [],
   "source": []
  }
 ],
 "metadata": {
  "kernelspec": {
   "display_name": "Python 3 (ipykernel)",
   "language": "python",
   "name": "python3"
  },
  "language_info": {
   "codemirror_mode": {
    "name": "ipython",
    "version": 3
   },
   "file_extension": ".py",
   "mimetype": "text/x-python",
   "name": "python",
   "nbconvert_exporter": "python",
   "pygments_lexer": "ipython3",
   "version": "3.9.7"
  },
  "toc": {
   "base_numbering": 1,
   "nav_menu": {},
   "number_sections": true,
   "sideBar": true,
   "skip_h1_title": false,
   "title_cell": "Table of Contents",
   "title_sidebar": "Contents",
   "toc_cell": false,
   "toc_position": {},
   "toc_section_display": true,
   "toc_window_display": false
  },
  "varInspector": {
   "cols": {
    "lenName": 16,
    "lenType": 16,
    "lenVar": 40
   },
   "kernels_config": {
    "python": {
     "delete_cmd_postfix": "",
     "delete_cmd_prefix": "del ",
     "library": "var_list.py",
     "varRefreshCmd": "print(var_dic_list())"
    },
    "r": {
     "delete_cmd_postfix": ") ",
     "delete_cmd_prefix": "rm(",
     "library": "var_list.r",
     "varRefreshCmd": "cat(var_dic_list()) "
    }
   },
   "types_to_exclude": [
    "module",
    "function",
    "builtin_function_or_method",
    "instance",
    "_Feature"
   ],
   "window_display": false
  }
 },
 "nbformat": 4,
 "nbformat_minor": 5
}
