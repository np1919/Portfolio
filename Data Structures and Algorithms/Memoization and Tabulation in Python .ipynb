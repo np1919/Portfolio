{
 "cells": [
  {
   "cell_type": "markdown",
   "id": "0e20b11b",
   "metadata": {},
   "source": [
    "\n",
    "# Memoization and Tabulation in Python \n",
    "\n",
    "\"Dynamic Programming -  Learn to Solve Algorithmic Problems & Coding Challenges\"\n",
    "Available on YouTube:\n",
    "\n",
    "[https://www.youtube.com/watch?v=oBt53YbR9Kk](https://www.youtube.com/watch?v=oBt53YbR9Kk)\n",
    "\n",
    "\n",
    "(by Alvin from freeCodeCamp.org)\n",
    "\n",
    "\n",
    "Ned Poland - November 2021\n",
    "\n",
    "[https://www.linkedin.com/in/nate-poland/](https://www.linkedin.com/in/nate-poland/)\n",
    "\n",
    "[https://github.com/np1919](https://github.com/np1919)"
   ]
  },
  {
   "cell_type": "markdown",
   "id": "b9f4f616",
   "metadata": {},
   "source": [
    "## Intro to Algorithms using Dynamic Programming\n",
    "\n",
    "In the video above, Alvin clearly and elegantly breaks down the key concepts of dynamic programming in terms of solving complicated (algorithmic) problems at scale. This is my first work learning about **big-O notation, the time and space complexity of a computation**, and I thought it was a great introduction. \n",
    "\n",
    "My understanding is that **dynamic programming seeks to solve large problems by breaking them down into smaller ones that we know how to solve**.\n",
    "\n",
    "\n",
    "In the video above, the code is written in Java, but I've written my implementations in Python. \n",
    "\n",
    "In the workbook below I attempt to solve a few (fairly simple) algorthmic problems, as described in the video. \n",
    "\n",
    "The functions are split broadly into two categories of algorithmic solving used in dynamic programming; "
   ]
  },
  {
   "cell_type": "markdown",
   "id": "a73af387",
   "metadata": {},
   "source": [
    "# `memoization`  and `tabulation`\n",
    "\n",
    " "
   ]
  },
  {
   "cell_type": "markdown",
   "id": "f40f0a32",
   "metadata": {},
   "source": [
    "Memoization in Python...\n",
    "---\n",
    "Memoization is the process of **storing the results of a function call for later reference**, to reduce the computation necessary to solve the algorithm as a whole. Performing fewer calculations reduces the time complexity of the problem. These memo stores should be cached independently of one another.\n",
    "\n",
    "My idea was to use an empty dictionary as a default argument, so that the function would cache its own results in a new container -- or else store the resulting 'map' to a declared container (variable). Unfortunately, due to way that Python functions store default arguments to functions, caching a memo was more difficult than originally anticipated. \n",
    "\n",
    "I couldn't use @cache or @lru-cache decorators, because some of the functions below return Python lists. I could have converted them to tuple, but I saw an opportunity to learn more about how Python works.\n",
    "\n",
    "For those functions to be used with varying arguments (same problem, different set of numbers) -- having the same memo object is a problem. The solution for one set of parameters won't necessary be the same as the same function called with different parameters. One should not interact with other, in terms of stored results.\n",
    "\n",
    "\n",
    "For example, if we were to make multiple calls to the function below, `can_sum`; which returns a boolean value:\n",
    "---"
   ]
  },
  {
   "cell_type": "code",
   "execution_count": 1,
   "id": "f53f15dc",
   "metadata": {},
   "outputs": [],
   "source": [
    "def can_sum(m:int, n:list, memo=dict()):\n",
    "    \"\"\" accepts:\n",
    "                m: integer\n",
    "                n: list of integers\n",
    "        returns:\n",
    "            bool;\n",
    "             whether or not any combination of the integers in `n` can sum to the target, `m`.\n",
    "            replacement is permitted. all integers in n will be non-negative.\n",
    "        \"\"\"\n",
    "    #### Base Case/Win Condition; subtract successfully to 0.\n",
    "    if m == 0: \n",
    "        return True\n",
    "\n",
    "    #### Lose Condition; subtracted too far. Return False\n",
    "    if m < 0:\n",
    "        memo[m] = False\n",
    "        return False\n",
    "    \n",
    "    #### Early Return --> target already in memory\n",
    "    if m in memo:\n",
    "        return memo[m]\n",
    "\n",
    "    \n",
    "    \n",
    "    #### Branching/Recursive Logic;\n",
    "            # Iterate through integers in `n`\n",
    "    for element in n:\n",
    "            # subtract `element` from m. Pass the remainder into a recursive call.\n",
    "        remainder = m - element\n",
    "            # calculate that branch/node;\n",
    "        result = can_sum(remainder, n, memo)\n",
    "        \n",
    "            # if ever a node reaches 0, we can return True early. --> we Can Sum to the target. \n",
    "        if  result == True:\n",
    "            memo[m] = True\n",
    "            return True\n",
    "        else:\n",
    "            # if not, return False. Memo-ize in either case. As long as a recursive call is still running from this branch, \n",
    "            # the value at this stage of `m` will not be set to False in the dictionary\n",
    "            memo[m] = False\n",
    "            return False"
   ]
  },
  {
   "cell_type": "markdown",
   "id": "a2fa4b69",
   "metadata": {},
   "source": [
    "Since we didn't pass an external variable name to the function, it uses the \\_\\_default__ dictionary in the function's namespace to bind the parameter 'memo' to a new dict() object which is bound in memory.\n",
    "\n",
    "Since the functions are recursive, we couldn't pass the same memo object "
   ]
  },
  {
   "cell_type": "code",
   "execution_count": 2,
   "id": "353891d5",
   "metadata": {},
   "outputs": [
    {
     "data": {
      "text/plain": [
       "True"
      ]
     },
     "execution_count": 2,
     "metadata": {},
     "output_type": "execute_result"
    }
   ],
   "source": [
    "a = can_sum(8, [1, 2, 3, 5])\n",
    "a\n"
   ]
  },
  {
   "cell_type": "markdown",
   "id": "08f0ffc6",
   "metadata": {},
   "source": [
    "Ok, good -- you can make 8 a bunch of ways using those numbers."
   ]
  },
  {
   "cell_type": "code",
   "execution_count": 3,
   "id": "f4e9e90c",
   "metadata": {},
   "outputs": [
    {
     "data": {
      "text/plain": [
       "True"
      ]
     },
     "execution_count": 3,
     "metadata": {},
     "output_type": "execute_result"
    }
   ],
   "source": [
    "b = can_sum(11, [4, 8, 14])\n",
    "b"
   ]
  },
  {
   "cell_type": "markdown",
   "id": "22b19893",
   "metadata": {},
   "source": [
    "What? you can't make 11 from the elements in [4, 8, 14]. What's going on here? \n",
    "\n",
    "In fact, the issue lies with the `memo=dict()` **default argument** in the `can_sum` function. \n",
    "\n",
    "By passing the dict constructor as a default argument, that dictionary exists in the **__defaults__ dictionary inside the class definition** and stores all 'cached' values there, **regardless of which instance of the class runs!**\n",
    "\n",
    "So, our cached results are inter-mingling in the function's class definition:"
   ]
  },
  {
   "cell_type": "code",
   "execution_count": 7,
   "id": "c6fc2514",
   "metadata": {
    "scrolled": true
   },
   "outputs": [
    {
     "data": {
      "text/plain": [
       "<function __main__.can_sum(m: int, n: list, memo={1: True, 2: True, 3: True, 4: True, 5: True, 6: True, 7: True, 8: True, 11: True})>"
      ]
     },
     "execution_count": 7,
     "metadata": {},
     "output_type": "execute_result"
    }
   ],
   "source": [
    "can_sum\n",
    "# we want the keys in this dict to be {-1: False, 3: False, 7: False, 11: False}, only.\n",
    "\n",
    "# you can see that by looking into the `class` definition, we have a singular dictionary holding all cached values. \n",
    "# This is not what we want! We need a function wrapper to cache the values for each instance of the class; like @lru_cache."
   ]
  },
  {
   "cell_type": "code",
   "execution_count": 5,
   "id": "00eba5f8",
   "metadata": {},
   "outputs": [
    {
     "data": {
      "text/plain": [
       "9"
      ]
     },
     "execution_count": 5,
     "metadata": {},
     "output_type": "execute_result"
    }
   ],
   "source": [
    "len(can_sum.__defaults__[0])\n",
    "# all of the keys in the __default__ dict of the can_sum class definition are being called;"
   ]
  },
  {
   "cell_type": "markdown",
   "id": "cad7b07a",
   "metadata": {},
   "source": [
    "Which gives erroneous results when we call the function with new parameters:"
   ]
  },
  {
   "cell_type": "code",
   "execution_count": 6,
   "id": "7a652176",
   "metadata": {
    "scrolled": true
   },
   "outputs": [
    {
     "name": "stdout",
     "output_type": "stream",
     "text": [
      "True\n"
     ]
    }
   ],
   "source": [
    "print(can_sum(3000, [7,14])) # note that this SHOULD return false, but because the memo was stored in the function dictionary,\n",
    "                            # it returns true. Below, you can also see the many values which are not multiples of 7 (or 14)\n",
    "                            # which are now stored in the function's (bound?) `memo` dictionary\n",
    "# can_sum\n",
    "\n",
    "# should return False..."
   ]
  },
  {
   "cell_type": "markdown",
   "id": "5fe5b72a",
   "metadata": {},
   "source": [
    "---"
   ]
  },
  {
   "cell_type": "markdown",
   "id": "139d4e1e",
   "metadata": {},
   "source": [
    "# Update December 2021 -- My Own Wrapper\n",
    "\n",
    "I've implemented my own (very simple) `memo-ization tool` below. It encloses the memo object in the scope of the `wrapper` function instead of the `can_sum` class definition, thereby using only the results from previous recursive calls in the `wrapper`'s namespace. \n",
    "\n",
    "I tried `@cache` and `@lru_cache` and ran into issues due to the Java implementations returning arrays where I was returning lists... I could have used dictionaries there; and I know there are also ways to make the function below into a decorator, but I haven't figured it out quite yet. \n",
    "\n",
    "    By creating a dictionary within the scope of this `wrapper` function and then calling our function from inside the wrapper, we can create a new instance of a memo object for the function call. This lets us store the appropriate keys, and find the values we need without affecting the underlying status of the definition function in the \"__main__\" namespace.\n",
    "    \n",
    "\n",
    "[Update February 2022 -- These wrappers could themselves be assigned to a variable; but I have not yet cached them in the same way that `@st.cache` does in streamlit.]"
   ]
  },
  {
   "cell_type": "code",
   "execution_count": 2,
   "id": "4e544c26",
   "metadata": {},
   "outputs": [],
   "source": [
    "def wrapper(func, m, n):\n",
    "    '''making my own cache'''\n",
    "    memo = dict() # make a new dictionary\n",
    "    return func(m, n, memo=memo) # pass it to the named variable memo"
   ]
  },
  {
   "cell_type": "code",
   "execution_count": 10,
   "id": "e255a56a",
   "metadata": {},
   "outputs": [
    {
     "name": "stdout",
     "output_type": "stream",
     "text": [
      "False\n"
     ]
    }
   ],
   "source": [
    "print(wrapper(can_sum, 3000, [7,14])) # from inside the wrapper (starting with an empty cache), \n",
    "                                        # the same call as above Correctly returns False \n",
    "    \n",
    "#  Despite that, the default can_sum dictionary is still messed up until we re-initialize the kernel.\n",
    "# can_sum    \n",
    "\n",
    "# Correctly returns False within the wrapper scope."
   ]
  },
  {
   "cell_type": "code",
   "execution_count": 11,
   "id": "5d00b9ee",
   "metadata": {
    "scrolled": true
   },
   "outputs": [
    {
     "data": {
      "text/plain": [
       "<function __main__.wrapper(func, m, n)>"
      ]
     },
     "execution_count": 11,
     "metadata": {},
     "output_type": "execute_result"
    }
   ],
   "source": [
    "wrapper \n",
    "\n",
    "# no default argument stored, no problem."
   ]
  },
  {
   "cell_type": "markdown",
   "id": "b1ccd41d",
   "metadata": {},
   "source": [
    "Decorators and class definitions are something I will be continuing to work on as I continue on my learning path with Python. Let's get back to the topic at hand; dynamic programming for algorithms; beginning with Memoization."
   ]
  },
  {
   "cell_type": "markdown",
   "id": "40fc07a2",
   "metadata": {},
   "source": [
    "---"
   ]
  },
  {
   "cell_type": "markdown",
   "id": "b52a0896",
   "metadata": {},
   "source": [
    "# Recursion\n",
    "\n",
    "## Introduction\n",
    "\n",
    "In recursive algorithms, we break a problem down into smaller and smaller parts until we reach a **Base Case** scenario -- which either produces our desired result, or proves it's impossibility.\n",
    "\n",
    "For example, if our desired result was that a target integer was to be reduced to 0 by *subtracting* (positive) integers from another list --> the 'base case' would be that the result of our function call ends up making 0. Conversely, the impossible 'base case' would be if our function call returns any number less than 0 --> since we're subtracting positive integers, we can't add to the final value in any way from there.\n",
    "\n",
    "If our goal was to reach 0, we can eventually reach 0 by performing the operation `-1` on the value 1. We can continue on in that way until we've subtracted the whole integer, if we are allowed to use at least 10 `-1`'s."
   ]
  },
  {
   "cell_type": "code",
   "execution_count": 12,
   "id": "525201b7",
   "metadata": {},
   "outputs": [
    {
     "name": "stdout",
     "output_type": "stream",
     "text": [
      "10\t9\t8\t7\t6\t5\t4\t3\t2\t1\t"
     ]
    },
    {
     "data": {
      "text/plain": [
       "True"
      ]
     },
     "execution_count": 12,
     "metadata": {},
     "output_type": "execute_result"
    }
   ],
   "source": [
    "def sub_1(m):\n",
    "    ''' subtract 1 from m until you reach 0'''\n",
    "    \n",
    "    # Base Case; \n",
    "    # m reaches 0.\n",
    "    if m == 0:\n",
    "        return True\n",
    "    if m > 0:\n",
    "        # verbose\n",
    "        print(m, end='\\t')       \n",
    "        # call the function inside itself (recursively). \n",
    "        return sub_1(m-1)\n",
    "        \n",
    "sub_1(10)\n",
    "# despite the other calls needing to resolve before \n",
    "# calculating the value of sub_1(10); \n",
    "# the results are displayed in order."
   ]
  },
  {
   "cell_type": "markdown",
   "id": "2c03b6e8",
   "metadata": {},
   "source": [
    "In the above, there's no need to use recursion -- subtracting a known integer from another known integer takes O(1) time (I think?), whereas we are performing 10 operations instead -- that's bad. Another way to criticise would be to say that there's only one 'branch' to the tree -- because we can only subtract 1 -- which means a recursive algorithm was definitely not necessary.\n",
    "\n",
    "The problems below add more variables to that second (now set of) value(s); such that we have an array of values, `n`, which we use to achieve some desired result with relation to a target, `m`. These values could be sequences(strings), or integers, etc., depending on the use case."
   ]
  },
  {
   "cell_type": "markdown",
   "id": "d976fa06",
   "metadata": {},
   "source": [
    "---"
   ]
  },
  {
   "cell_type": "markdown",
   "id": "54126487",
   "metadata": {},
   "source": [
    "## Memoization for Recursive Problems\n",
    "\n",
    "**Memoization** is the idea that the smallest iteration of a dynamic programming problem will likely have to be calculated many many times. It seeks to store the values for those simple calculations in a record; from there, it can simply reference the record when the problem comes up again, instead of having to re-calculate the value.\n",
    "\n",
    "Problems are often visualized as 'recursive trees' in this method, where, for example; from a large sequence (head node), we begin to chip away at the values, breaking them into smaller and smaller chunks by means of a process we can eventually perform in reverse. If we are able to fully *digest* the problem using our very small method --> then we can reconstruct our steps, and are sure we can climb back up to the top of the tree (thereby solving our big problem). \n",
    "\n",
    "Typically, many of the branches will not satisfy our needs. In some cases we only need to find a single path back, and for other problems we might want to find all paths. Within these requirements we hope to keep our **time and space complexity** to a minimum; *linear is much better than exponential, especially at scale.*\n",
    "\n",
    "\n",
    "In memoization problems, we use a cached memory to save the results from our (smaller) recursive calls in memory. By doing so, we reduce the number of calculations (*time*) necessary to complete the problem. The amount of *space* necessary does remain relevant in this type of solution."
   ]
  },
  {
   "cell_type": "markdown",
   "id": "14a5f080",
   "metadata": {},
   "source": [
    "---"
   ]
  },
  {
   "cell_type": "markdown",
   "id": "e3869007",
   "metadata": {},
   "source": [
    "## Grid Traveler\n",
    "\n",
    "The goal in this case is to move from the top left of an 18 * 18 grid to the bottom right, and count how many different ways you could get there. \n",
    "\n",
    "The **Base Case** here is that you end up at position (1,1) -> able to move off the last corner of the grid. \n",
    "\n",
    "\n",
    "If we imagine the grid instead as x and y cartesian points, we could say that any positions where the x or y point is at 0 is **out of bounds**; equally, any x or y value greater than the (square) grid would be out of bounds. Therefore; starting at the top left of an 18\\*18 grid, how many ways are there to find yourself at the bottom right, moving only right or down?\n",
    "\n",
    "There will be only one path to the finish once the traveler reaches x=1 and y=1. This means you're at the corner, and moving right or down (the only legal moves) will result in success."
   ]
  },
  {
   "cell_type": "code",
   "execution_count": 125,
   "id": "eb05ff6b",
   "metadata": {},
   "outputs": [
    {
     "name": "stdout",
     "output_type": "stream",
     "text": [
      "2333606220\n",
      "0\n",
      "1\n",
      "\n",
      "3\n",
      "6\n",
      "\n",
      "0\n",
      "0\n",
      "1\n",
      "1\n",
      "\n",
      "2333606220\n"
     ]
    }
   ],
   "source": [
    "def grid_traveler(m:int, n:int, memo=dict()):\n",
    "    '''beginning at the top left of a 2-D grid, \n",
    "        and moving only DOWN or to the RIGHT;\n",
    "         HOW MANY WAYS can you travel to the goal?'''\n",
    "\n",
    "    # Base Cases;\n",
    "    if m == 1 and n == 1:# Win -> you've reached the bottom right corner.\n",
    "        return 1\n",
    "    \n",
    "    if m == 0 or n == 0: # Lose -> you're out of bounds.\n",
    "        return 0\n",
    "\n",
    "     \n",
    "    # Memoization\n",
    "    if (m, n) in memo: \n",
    "        return memo[(m, n)]\n",
    "    if (n, m) in memo:\n",
    "        return memo[(n, m)]\n",
    "\n",
    "    \n",
    "    go_down = grid_traveler(m-1, n, memo) # move down\n",
    "    go_right = grid_traveler(m, n-1, memo) # move right\n",
    "    \n",
    "    total = go_down + go_right # the total will be the sum of the potential paths stemming from this node\n",
    "    memo[(m, n)] = total # since the underlying grid will never change, keep cache in func.\n",
    "\n",
    "    return total\n",
    "        \n",
    "\n",
    "print(wrapper(grid_traveler, 18, 18))\n",
    "\n",
    "# Wrapping this function means calculating each value again for each call -- \n",
    "# This is redundant, as the total # of paths for each 'node' will remain constant\n",
    "# Over any number of larger grids. \n",
    "# \n",
    "print(grid_traveler(0, 0))\n",
    "print(grid_traveler(1,1))\n",
    "print()\n",
    "print(grid_traveler(2,3))\n",
    "print(grid_traveler(3,3))\n",
    "print()\n",
    "print(grid_traveler(18,0))\n",
    "print(grid_traveler(0,18))\n",
    "print(grid_traveler(18,1))\n",
    "print(grid_traveler(1,18))\n",
    "print()\n",
    "print(grid_traveler(18,18))\n",
    "# grid_traveler"
   ]
  },
  {
   "cell_type": "markdown",
   "id": "efe8d89b",
   "metadata": {},
   "source": [
    "We've actually solved this problem for all the cartesian coordinates in the range(s) (1,1) -> (18, 18), using the same rules. \n",
    "\n",
    "We could easily modify the program to return the full dictionary of values by returning the memo object."
   ]
  },
  {
   "cell_type": "code",
   "execution_count": 13,
   "id": "f7db7196",
   "metadata": {},
   "outputs": [],
   "source": [
    "# print(type(grid_traveler.__defaults__[0]))\n",
    "# grid_traveler.__defaults__[0]"
   ]
  },
  {
   "cell_type": "markdown",
   "id": "47053310",
   "metadata": {},
   "source": [
    "how_sum\n",
    "---\n",
    "\n",
    "Find *any way* to create the target integer `m` using the elements in `n`, with replacement.\n",
    "\n",
    "We can return early as soon as we find a complete path. \n"
   ]
  },
  {
   "cell_type": "code",
   "execution_count": 14,
   "id": "dca11581",
   "metadata": {},
   "outputs": [
    {
     "name": "stdout",
     "output_type": "stream",
     "text": [
      "[3, 2, 2]\n",
      "[3, 2, 2]\n",
      "[2, 2, 2, 2]\n",
      "\n",
      "None\n",
      "None\n"
     ]
    }
   ],
   "source": [
    "\n",
    "def how_sum(m:int, n:list, memo=dict()):\n",
    "    '''return one possible combination of sub-arrays in `n` which sum to produce `m` '''\n",
    "    # Base case; you've removed a sub-array from m and m is now 0; you win.\n",
    "    if m == 0:\n",
    "        return []\n",
    "    # Base failure case; you've removed a sub-array from m and m is now less than 0; you lose.\n",
    "    if m < 0:\n",
    "        return None\n",
    "    \n",
    "    # If you've done this before, don't.\n",
    "    if m in memo:\n",
    "        return memo[m]\n",
    "    \n",
    "    # iterate through elements in n.\n",
    "    for num in n:\n",
    "        remainder = m - num # create all possible remainders.\n",
    "        chain = how_sum(remainder, n, memo) # for each remainder, create a chain recursive call.\n",
    "        if chain is not None:            # when one eventually resolves, concatenate with this node and pass upwards\n",
    "            result = chain + [num]       #\n",
    "            memo[m] = result             # store the result and return it\n",
    "            return result\n",
    "        \n",
    "        else:                           # if the recursive call finishes and has no hits, this node is also a dud.\n",
    "            memo[m] = None\n",
    "    \n",
    "    \n",
    "print(how_sum(7, [2,3]))\n",
    "print(how_sum(7, [5,4])) # INCORRECT returned list.\n",
    "print(wrapper(how_sum,8, [2,3,5])) # this is correct, but the longest possible combination...\n",
    "print()\n",
    "print(wrapper(how_sum,7, [4,6]))\n",
    "print(wrapper(how_sum,300, [7, 14])) # from inside the wrapper, these calls correctly return None."
   ]
  },
  {
   "cell_type": "markdown",
   "id": "1c67dc02",
   "metadata": {},
   "source": [
    "best_sum\n",
    "---\n",
    "Find the shortest combination of elements in `n` which sum to target integer `m`.\n",
    "\n",
    "We'll have to exhaust every combination of our tree and examine each possible outcome. "
   ]
  },
  {
   "cell_type": "code",
   "execution_count": 17,
   "id": "4ba6dad6",
   "metadata": {},
   "outputs": [
    {
     "name": "stdout",
     "output_type": "stream",
     "text": [
      "[5, 5]\n",
      "[7]\n",
      "[4, 4]\n",
      "[25, 25, 25, 25]\n",
      "[100]\n",
      "[5, 5, 55, 55, 55, 55, 55, 55, 55, 55, 55, 55, 55, 55, 55, 55, 55, 55, 55, 55]\n"
     ]
    }
   ],
   "source": [
    "def best_sum(m:int, n:list, memo=dict()):\n",
    "    \"\"\"accept:\n",
    "        m: int -> the target sum\n",
    "        n: list: -> a list of integers with which to create the sum\n",
    "        memo: dict -> defaults to an empty dictionary. To save results simply\n",
    "        pass another dictionary.\n",
    "        \n",
    "        returns:\n",
    "             the shortest possible array of numbers from `n` which sum to `m`\n",
    "     \n",
    "     \"\"\"\n",
    "    # Base Case: Win; you've called recursively with an m value of 0.\n",
    "    if m == 0:\n",
    "        return []\n",
    "    # Base Case: Lose; you've gone too far.\n",
    "    if m < 0:\n",
    "        return None\n",
    "    if m in memo:\n",
    "        return memo[m]\n",
    "    \n",
    "    shortest = None # could easily be adapted to also provide the Longest combination\n",
    "    \n",
    "    for num in n:\n",
    "        remainder = m - num\n",
    "        chain = best_sum(remainder, n, memo) # returns a list, or None\n",
    "\n",
    "        if chain is not None:\n",
    "            combination = chain + [num] # chain returns as the shortest combination of the recursive call below\n",
    "\n",
    "            if shortest == None: # first time through\n",
    "                shortest = combination\n",
    "            if len(combination) < len(shortest): # check that this combination is the shortest one.\n",
    "                shortest = combination\n",
    "         \n",
    "            memo[m] = shortest # store in memory\n",
    "    \n",
    "    return shortest # return the shortest combination. \n",
    "\n",
    "\n",
    "## Example using wrapper\n",
    "print(wrapper(best_sum, 10, [1,2,3,4,5]))\n",
    "print(wrapper(best_sum, 7, [3,4,5,7]))\n",
    "print(wrapper(best_sum, 8, [1,4,5]))\n",
    "print(wrapper(best_sum, 100, [1,5,25]))\n",
    "print(wrapper(best_sum, 100, [1,5,25,100])) # notice that this 100 is not saved.\n",
    "print(wrapper(best_sum, 1000, [17,55,1,5,25]))"
   ]
  },
  {
   "cell_type": "markdown",
   "id": "b19cd3da",
   "metadata": {},
   "source": [
    "can_construct\n",
    "---\n",
    "\n",
    "Indicate whether or not a target *string* `m` can be created using the (sub-)sequences in `n`, with replacement. \n",
    "\n",
    "Return a bool."
   ]
  },
  {
   "cell_type": "code",
   "execution_count": 3,
   "id": "2a68f59b",
   "metadata": {
    "scrolled": true
   },
   "outputs": [
    {
     "name": "stdout",
     "output_type": "stream",
     "text": [
      "True\n",
      "False\n",
      "True\n",
      "False\n"
     ]
    }
   ],
   "source": [
    "def can_construct(m:str, n:list, memo=dict()):\n",
    "    \"\"\" define a function can_construct:\n",
    "    accepts:\n",
    "        `m` : a sequence\n",
    "        `n` : list of (sub)sequences, which can be used with replacement\n",
    "        optional: a memo-ization object, or cache; to store the results of our recursive calls. Defaults to an empty dictionary.\n",
    "    returns:\n",
    "        boolean value; whether the m, `m`, can be created from the elements of list, `n`\n",
    "        \"\"\"\n",
    "        #### Base Case/Win Condition --> m sequence `m` goes to 0.\n",
    "            #### Return True.\n",
    "    if m == \"\":\n",
    "        memo[m] = True\n",
    "        return True\n",
    "    \n",
    "        #### Early Return --> Already in Memo\n",
    "    if m in memo:\n",
    "        return memo[m]\n",
    "    \n",
    "        #### Branch Logic;\n",
    "        #### Iterate through elements of sequence `n` and look for a prefix (match) with the current `m` value. Subtract it\n",
    "        #### and keeping going\n",
    "\n",
    "    for word in n:\n",
    "        if m.startswith(word): # if word is a prefix of m;\n",
    "            chain = can_construct(m[len(word):], n) # call recursively on the remainder of the list\n",
    "            if chain == True: # Return early on the first True\n",
    "                memo[m] = True \n",
    "                return True\n",
    "\n",
    "        # If the whole chain isn't true by the end of the loops;\n",
    "        # save this `m` value in memory as False and return False\n",
    "    memo[m] = False\n",
    "    return False\n",
    "\n",
    "\n",
    "\n",
    "print(wrapper(can_construct, 'abcdef', ['ab', 'abc', 'cd', 'def', 'abcd', 'f']))\n",
    "print(wrapper(can_construct, 'skateboard', ['bo', 'rd', 'ate','t','ska','sk','boar']))\n",
    "print(wrapper(can_construct, 'enterapotentpot', ['a','p','ent','enter','ot','o','t']))\n",
    "print(wrapper(can_construct, 'eeeeeeeeeeeeeeeeeeeeeeeeeeeeeeeeeeeeeeeeeeeeeef', ['e','ee','eee','eeee','eeeee','eeeeee']))\n"
   ]
  },
  {
   "cell_type": "markdown",
   "id": "e532e474",
   "metadata": {},
   "source": [
    "allConstruct\n",
    "---\n",
    "Return **all possible** combinations of the elements in `n` which can create the sequence `m`.\n",
    "\n",
    "We'll have to calculate the whole tree to check all combinations."
   ]
  },
  {
   "cell_type": "code",
   "execution_count": 16,
   "id": "b7236829",
   "metadata": {},
   "outputs": [
    {
     "name": "stdout",
     "output_type": "stream",
     "text": [
      "[['purp', 'le'], ['p', 'urple']]\n",
      "[['ab', 'cd', 'ef'], ['abc', 'def'], ['abcd', 'ef']]\n",
      "[]\n",
      "[['enter', 'a', 'p', 'ot', 'ent', 'p', 'ot'], ['enter', 'a', 'p', 'ot', 'ent', 'p', 'o', 't'], ['enter', 'a', 'p', 'o', 't', 'ent', 'p', 'ot'], ['enter', 'a', 'p', 'o', 't', 'ent', 'p', 'o', 't']]\n",
      "[]\n"
     ]
    }
   ],
   "source": [
    "def all_construct(m, n):\n",
    "    \"\"\" \n",
    "    accepts:\n",
    "        m: a string\n",
    "        n: a list of (sub-)strings, which can be used with replacement\n",
    "\n",
    "    returns:\n",
    "        2-D array of all combinations of n which produce m\n",
    "        \"\"\"\n",
    "        # Base Case; you've removed elements and found str(len(0)). You win.\n",
    "    if m == \"\":\n",
    "        return [[]]\n",
    "    \n",
    "        # container to hold all possible combinations\n",
    "    results = []\n",
    "    for word in n:\n",
    "        if m.startswith(word): # for this 'suffix', `m`;\n",
    "            results += [[word] + x for x in all_construct(m[len(word):], n)] \n",
    "                        # prepend word to each inner list of the list returned by the recursive call\n",
    "            # for each nested list returned from the recursive call, add this word to that list and pass \n",
    "            # the full list of combinations from this node upwards.\n",
    "\n",
    "        # return the container of all possible combinations from this node's branches and leaves. \n",
    "    return results\n",
    "\n",
    "\n",
    "print(all_construct('purple', ['purp', 'le', 'p', 'urple', 'e']))\n",
    "\n",
    "print(all_construct('abcdef', ['ab', 'abc', 'cd', 'def', 'abcd', 'ef']))\n",
    "print(all_construct('skateboard', ['bo', 'rd', 'ate','t','ska','sk','boar']))\n",
    "print(all_construct('enterapotentpot', ['a','p','ent','enter','ot','o','t']))\n",
    "print(all_construct('eeeeeeeeeeeeeeeeeeeeeef', ['e','ee','eee','eeee','eeeee','eeeeee']))\n"
   ]
  },
  {
   "cell_type": "markdown",
   "id": "963c1175",
   "metadata": {},
   "source": [
    "---"
   ]
  },
  {
   "cell_type": "markdown",
   "id": "66b8a801",
   "metadata": {},
   "source": [
    "# Tabulation"
   ]
  },
  {
   "cell_type": "markdown",
   "id": "5de614e7",
   "metadata": {},
   "source": [
    "Tabulation involves using a table to create an ordered, progressive solution for a problem.\n",
    "\n",
    "Alvin's rules for tabulation are as below:\n",
    "\n",
    "    -visualize the problem as a table\n",
    "    -size the table based on the inputs (usually length of target, m)\n",
    "    -initialize the table with default values\n",
    "    -seed the trivial answer into the table\n",
    "    -fill further positions based on the current position\n",
    "    \n",
    "For these purposes, I'll bring in pandas and numpy :)"
   ]
  },
  {
   "cell_type": "code",
   "execution_count": 17,
   "id": "ac00b953",
   "metadata": {},
   "outputs": [],
   "source": [
    "import pandas as pd\n",
    "import numpy as np"
   ]
  },
  {
   "cell_type": "markdown",
   "id": "7446115a",
   "metadata": {},
   "source": [
    "Fibonacci\n",
    "---\n"
   ]
  },
  {
   "cell_type": "code",
   "execution_count": 18,
   "id": "ceb8707c",
   "metadata": {},
   "outputs": [
    {
     "name": "stdout",
     "output_type": "stream",
     "text": [
      "5\n",
      "139583862445\n",
      "43516638122555047989641805373140394725407202037260729735885664398655775748034950972577909265605502785297675867877570\n"
     ]
    }
   ],
   "source": [
    "def fib(n):\n",
    "    current, previous = 0, 1\n",
    "    for x in range(n):\n",
    "        current, previous = current + previous, current # quick and easy tuple unpacking.\n",
    "    return current\n",
    "print(fib(5))\n",
    "print(fib(55))\n",
    "print(fib(555))"
   ]
  },
  {
   "cell_type": "markdown",
   "id": "243c8a26",
   "metadata": {},
   "source": [
    "tab_grid_traveler\n",
    "---"
   ]
  },
  {
   "cell_type": "code",
   "execution_count": 19,
   "id": "54eea1b0",
   "metadata": {},
   "outputs": [
    {
     "data": {
      "text/plain": [
       "6.0"
      ]
     },
     "metadata": {},
     "output_type": "display_data"
    },
    {
     "data": {
      "text/plain": [
       "252.0"
      ]
     },
     "metadata": {},
     "output_type": "display_data"
    },
    {
     "data": {
      "text/plain": [
       "2333606220.0"
      ]
     },
     "execution_count": 19,
     "metadata": {},
     "output_type": "execute_result"
    }
   ],
   "source": [
    "def tab_grid_traveler(m, n):\n",
    "    '''accept:\n",
    "            cartesian coordinates (m, n)\n",
    "            \n",
    "        return:\n",
    "            number of paths to (1,1)\n",
    "    '''\n",
    "    mat = np.zeros((m+1, n+1)) # form the grid\n",
    "    table = pd.DataFrame(mat)\n",
    "    start = table.iloc[1,1] = 1 # seed the table\n",
    "    for rowidx, row in table.iterrows(): \n",
    "        for colidx, col in enumerate(row): # for each position, moving from top left;\n",
    "            try:\n",
    "                table.iloc[rowidx+1, colidx] += table.iloc[rowidx, colidx] # add the cell values to the one below\n",
    "            except:\n",
    "                pass        # naive exception handling deals with moving out-of-bounds\n",
    "            try:\n",
    "                table.iloc[rowidx, colidx+1] += table.iloc[rowidx, colidx] # add the cell values to the one to the right\n",
    "            except:\n",
    "                pass\n",
    "   \n",
    "    \n",
    "    return table.iloc[-1,-1] # can be easily modified to return the actual df; currently returns the count at (1,1)\n",
    "\n",
    "\n",
    "display(tab_grid_traveler(3,3))\n",
    "display(tab_grid_traveler(6,6))\n",
    "tab_grid_traveler(18,18)"
   ]
  },
  {
   "cell_type": "markdown",
   "id": "343f838e",
   "metadata": {},
   "source": [
    "tab_can_sum\n",
    "---\n"
   ]
  },
  {
   "cell_type": "code",
   "execution_count": 20,
   "id": "ebe9a34c",
   "metadata": {},
   "outputs": [
    {
     "name": "stdout",
     "output_type": "stream",
     "text": [
      "(7, True)\n",
      "(300, False)\n"
     ]
    }
   ],
   "source": [
    "def tab_can_sum(m, n):\n",
    "    '''\n",
    "    accept:\n",
    "    m; integer\n",
    "    n; list of integers\n",
    "    \n",
    "    return:\n",
    "     ; bool\n",
    "         whether or not the target sum, `m`, can be constructed using the elements of `n`\n",
    "         with replacement\n",
    "     '''\n",
    "    arr = pd.Series(False, index=range(m+1)) # starting at base case 0 (index 0);\n",
    "    arr[0] = True # seed True value at m==0;\n",
    "    for idx, val in enumerate(arr): \n",
    "        if val == True: # if the cell has been seeded;\n",
    "            for num in n: \n",
    "                if not idx+num > m: # if the resulting index is not out of bounds;\n",
    "                    arr[idx+num] = True # seed the cell\n",
    "    \n",
    "    return  arr.index[m], arr[m]\n",
    "\n",
    "print(tab_can_sum(7, [5,3,4]))\n",
    "print(tab_can_sum(300, [7,14]))"
   ]
  },
  {
   "cell_type": "markdown",
   "id": "abd01bd4",
   "metadata": {},
   "source": [
    "tab_how_sum\n",
    "---"
   ]
  },
  {
   "cell_type": "code",
   "execution_count": 21,
   "id": "01c98209",
   "metadata": {},
   "outputs": [
    {
     "name": "stdout",
     "output_type": "stream",
     "text": [
      "[3, 3, 1]\n",
      "[5, 3]\n",
      "[7]\n",
      "[]\n",
      "[25, 25, 25, 25]\n",
      "[31, 31, 31, 5, 2]\n"
     ]
    }
   ],
   "source": [
    "def tab_how_sum(m, n):\n",
    "    '''\n",
    "          stores only one value in each cell.\n",
    "        iterates backwards over the list to 'pick up' the stored values.\n",
    "    \n",
    "    accepts:\n",
    "            m: integer\n",
    "            n: list of integers\n",
    "        returns:\n",
    "            one possible combination of elements from `n`, with replacement, which sum to produce `m`.\n",
    "            \n",
    "      \n",
    "    '''\n",
    "    \n",
    "\n",
    "    # create table\n",
    "    arr = [None for x in range(m+1)] # we're summing to a number, index m+1\n",
    "    arr[0] = [] # seed the table. this is our winning 'base case'.\n",
    "    \n",
    "        # container for return values\n",
    "    output = []\n",
    "    \n",
    "\n",
    "    for idx, val in enumerate(arr):\n",
    "        if val is not None: # if you're at a proven viable position; \n",
    "            for num in n: # for each element in `n`.\n",
    "                if idx+num < len(arr): # limit so you won't move out of bounds;\n",
    "                    \n",
    "                    if arr[idx+num] is not None:\n",
    "                        if num > arr[idx+num]: ####### check if the stored value is the largest... \n",
    "                                                ############ this isn't Necessarily the best route, but it is the biggest step.\n",
    "                                \n",
    "                            arr[idx+num] = num # assign the number that got you there to the resulting index.\n",
    "                    else:\n",
    "                        arr[idx+num] = num # assign the number that got you there to the resulting index.\n",
    "\n",
    "                    \n",
    "                    \n",
    "            # then simply iterate backwards and pick up your numbers.\n",
    "    if arr[m] is not None:\n",
    "        position = m\n",
    "        while position != 0:\n",
    "            output.append(arr[position])\n",
    "            position = position - arr[position] \n",
    "    return output\n",
    "\n",
    "\n",
    "print(tab_how_sum(7, [1,2,3]))\n",
    "print(tab_how_sum(8, [2,3,5]))\n",
    "print(tab_how_sum(7, [5,3,4, 7]))\n",
    "print(tab_how_sum(300, [7,14])) # Returns an empty list instead of None\n",
    "print(tab_how_sum(100, [1,2,5,25]))\n",
    "print(tab_how_sum(100, [1,2,5,25,31])) # note that this does not correctly identify [25,25,25,25] as the best solution\n",
    "\n"
   ]
  },
  {
   "cell_type": "code",
   "execution_count": 22,
   "id": "0a61faec",
   "metadata": {},
   "outputs": [
    {
     "name": "stdout",
     "output_type": "stream",
     "text": [
      "[3, 2, 2]\n",
      "[2, 2, 2, 2]\n",
      "[4, 3]\n",
      "None\n",
      "[1, 1, 1, 1, 1, 1, 1, 1, 1, 1, 1, 1, 1, 1, 1, 1, 1, 1, 1, 1, 1, 1, 1, 1, 1, 1, 1, 1, 1, 1, 1, 1, 1, 1, 1, 1, 1, 1, 1, 1, 1, 1, 1, 1, 1, 1, 1, 1, 1, 1, 1, 1, 1, 1, 1, 1, 1, 1, 1, 1, 1, 1, 1, 1, 1, 1, 1, 1, 1, 1, 1, 1, 1, 1, 1, 1, 1, 1, 1, 1, 1, 1, 1, 1, 1, 1, 1, 1, 1, 1, 1, 1, 1, 1, 1, 1, 1, 1, 1, 1]\n",
      "[1, 1, 1, 1, 1, 1, 1, 1, 1, 1, 1, 1, 1, 1, 1, 1, 1, 1, 1, 1, 1, 1, 1, 1, 1, 1, 1, 1, 1, 1, 1, 1, 1, 1, 1, 1, 1, 1, 1, 1, 1, 1, 1, 1, 1, 1, 1, 1, 1, 1, 1, 1, 1, 1, 1, 1, 1, 1, 1, 1, 1, 1, 1, 1, 1, 1, 1, 1, 1, 1, 1, 1, 1, 1, 1, 1, 1, 1, 1, 1, 1, 1, 1, 1, 1, 1, 1, 1, 1, 1, 1, 1, 1, 1, 1, 1, 1, 1, 1, 1]\n"
     ]
    }
   ],
   "source": [
    "def tab_how_sum2(m, n):\n",
    "    ''''version two!\n",
    "         instead of iterating backwards to 'pick up' the elements, it concatenates them in the forward iteration\n",
    "        (no chance to filter)    \n",
    "        \n",
    "    accepts:\n",
    "            m: integer\n",
    "            n: list of integers\n",
    "        returns:\n",
    "            one possible combination of elements from `n`, with replacement, which sum to produce `m`.\n",
    "            \n",
    "               \n",
    "    '''\n",
    "    \n",
    "    arr = [None for x in range(m+1)] # we're summing to a number, index m+1M\n",
    "    arr[0] = [] # seed the table\n",
    "\n",
    "    for idx, val in enumerate(arr): \n",
    "        if val is not None: \n",
    "            for num in n:\n",
    "                if idx+num < len(arr):\n",
    "                    if arr[idx+num] == None:\n",
    "                        arr[idx+num] = val + [num]  \n",
    "                    else:  \n",
    "                        arr[idx+num] = val + [num]\n",
    "                        \n",
    "                        \n",
    "    return arr[m]\n",
    "\n",
    "print(tab_how_sum2(7, [2,3]))\n",
    "print(tab_how_sum2(8, [2,3,5]))\n",
    "print(tab_how_sum2(7, [5,3,4, 7]))\n",
    "print(tab_how_sum2(300, [7,14])) # Returns None instead of an empty list\n",
    "print(tab_how_sum2(100, [1,2,5,25]))\n",
    "print(tab_how_sum2(100, [1,2,5,25,31])) # this solution is much more naive\n",
    "\n"
   ]
  },
  {
   "cell_type": "markdown",
   "id": "01fbd05c",
   "metadata": {},
   "source": [
    "tab_best_sum\n",
    "---\n",
    "\n",
    "Synthesis of the two answers to tab_how_sum, above."
   ]
  },
  {
   "cell_type": "code",
   "execution_count": 23,
   "id": "439c0cd4",
   "metadata": {},
   "outputs": [
    {
     "name": "stdout",
     "output_type": "stream",
     "text": [
      "[2, 2, 3]\n",
      "[3, 5]\n",
      "[7]\n",
      "[25, 25, 25, 25]\n",
      "[25, 25, 25, 25]\n"
     ]
    }
   ],
   "source": [
    "def tab_best_sum(m, n):\n",
    "    ''' accepts:\n",
    "            m: an integer\n",
    "            n: a list of integers\n",
    "    \n",
    "    returns:\n",
    "        the SHORTEST combination of elements of `n` which sum to `m`\n",
    "    '''\n",
    "    output = []\n",
    "    arr = [None for x in range(m+1)] \n",
    "    arr[0] = [] \n",
    "\n",
    "    for idx, val in enumerate(arr): \n",
    "        if val is not None:\n",
    "            for num in n:\n",
    "                if idx+num < len(arr):\n",
    "                    if arr[idx+num] == None:\n",
    "                        arr[idx+num] = val + [num]  \n",
    "                    elif len(val + [num]) < len(arr[idx+num]):#### Add condition \n",
    "                                                              #### (that the replacement is shorter)\n",
    "                        arr[idx+num] = val + [num]\n",
    "\n",
    "    return arr[m]\n",
    "\n",
    "\n",
    "print(tab_best_sum(7, [2,3]))\n",
    "print(tab_best_sum(8, [2,3,5]))\n",
    "print(tab_best_sum(7, [5,3,4, 7]))\n",
    "print(tab_best_sum(100, [1,2,5,25]))\n",
    "print(tab_best_sum(100, [1,2,5,25,31])) # this solution correctly identifies the length of each substep \n",
    "                                        # (intead of just the value of its most recent step, as in tab_how_sum)"
   ]
  },
  {
   "cell_type": "markdown",
   "id": "6868a20a",
   "metadata": {},
   "source": [
    "tab_can_construct\n",
    "---"
   ]
  },
  {
   "cell_type": "code",
   "execution_count": 24,
   "id": "43ad48a0",
   "metadata": {},
   "outputs": [
    {
     "data": {
      "text/plain": [
       "True"
      ]
     },
     "execution_count": 24,
     "metadata": {},
     "output_type": "execute_result"
    }
   ],
   "source": [
    "import pandas as pd\n",
    "def tab_can_construct(m, n):\n",
    "    '''accept:\n",
    "            m: a string\n",
    "            n: a list of strings\n",
    "            \n",
    "        return:\n",
    "            BOOL \n",
    "            \n",
    "            whether or not the target string`m`\n",
    "            can be constructed \n",
    "            using the elements from `n `\n",
    "            with replacement'''\n",
    " \n",
    "\n",
    "    # create table of length target string + 1\n",
    "    arr = pd.Series(index=[x for x in m] + ['Final'], data = False)\n",
    "    arr[0] = True # seed the viable case\n",
    "    \n",
    "    for idx, (key, val) in zip(range(len(m)+1), arr.iteritems()): # for each possible starting position\n",
    "        if arr[idx] == True: # if it has been proven viable (we move right-wise)\n",
    "            current_letter = arr.index[idx]            \n",
    "            for sub in n: # check each subsequence in n   \n",
    "                if sub.startswith(current_letter) and (idx+len(sub) < len(arr)):\n",
    "                    arr[idx+len(sub)] = True\n",
    "    return arr[-1]\n",
    "\n",
    "tab_can_construct('abcdef', ['ab', 'abc', 'cd', 'def', 'abcd'])"
   ]
  },
  {
   "cell_type": "markdown",
   "id": "5118a204",
   "metadata": {},
   "source": [
    "tab_count_construct\n",
    "---\n"
   ]
  },
  {
   "cell_type": "code",
   "execution_count": 25,
   "id": "3c95e3bc",
   "metadata": {
    "scrolled": true
   },
   "outputs": [
    {
     "name": "stdout",
     "output_type": "stream",
     "text": [
      "1\n",
      "1612\n",
      "17\n"
     ]
    }
   ],
   "source": [
    "def tab_count_construct(m, n):\n",
    "    '''accept:\n",
    "            m: a string\n",
    "            n: a list of strings\n",
    "            \n",
    "        return:\n",
    "                INT\n",
    "                \n",
    "            HOW MANY WAYS `m`can be constructed \n",
    "            using the elements from `n `\n",
    "            with replacement'''\n",
    " \n",
    "\n",
    "    # create table of length target string + 1\n",
    "    arr = pd.Series(index=[x for x in m] + ['Final'], data = 0)\n",
    "    arr[0] = 1 # seed the viable case\n",
    "    \n",
    "    for idx, (key, val) in zip(range(len(m)+1), arr.iteritems()): # for each possible starting position\n",
    "        if arr[idx] > 0: # if it has been proven viable (we move right-wise)\n",
    "            for sub in n:\n",
    "                    # determine potential next index, based on subsequences in n\n",
    "                next_index = idx+len(sub)\n",
    "                    # check each subsequence in n against the suffix (m[idx:next_index]) \n",
    "                    # if the substring matches; and the next_index is valid;\n",
    "                if sub == m[idx:next_index] and (next_index < len(arr)): #len is indexed from 1\n",
    "                    arr[idx+len(sub)] += arr[idx] \n",
    "                        # add the paths to the next index\n",
    "    return arr[-1]\n",
    "\n",
    "print(tab_count_construct('abcdef', ['ab', 'abc', 'cd', 'def', 'abcd']))\n",
    "print(tab_count_construct('eeeeeeeeeeeeeeeeef', ['ef', 'e', 'eeeeee','eee','eeee',]))\n",
    "print(tab_count_construct('eeeeeeeeeeeeeeeeef', ['eeeeeeeeeef', 'e', 'eeeeee','eee','eeee',]))"
   ]
  },
  {
   "cell_type": "markdown",
   "id": "d0e5b708",
   "metadata": {},
   "source": [
    "tab_all_construct\n",
    "---\n",
    "\n",
    "Create a table containing all possible ways to construct target string `m` from the sub-sequences in `n`, with replacement."
   ]
  },
  {
   "cell_type": "code",
   "execution_count": 26,
   "id": "ef5241a5",
   "metadata": {},
   "outputs": [
    {
     "name": "stdout",
     "output_type": "stream",
     "text": [
      "[['abc', 'def']]\n",
      "[['p', 'an', 'e', 'p', 'an', 'e', 'e', 'e', 'e', 'e']]\n",
      "1612\n",
      "17\n"
     ]
    }
   ],
   "source": [
    "def tab_all_construct(m, n):\n",
    "    '''accept:\n",
    "            m: a string\n",
    "            n: a list of strings\n",
    "            \n",
    "        return:\n",
    "            2-D array of ALL WAYS `m`can be constructed \n",
    "            using the elements from `n `\n",
    "            with replacement'''\n",
    "    n = set(n)\n",
    "    m_string = [x for x in m] + ['Final'] # m+1\n",
    "    arr = [None for x in m_string] # matching list\n",
    "    arr[0] = [[]] # seed the viable case\n",
    "\n",
    "    for idx, char in enumerate(m_string):\n",
    "        suffix = m[idx:]\n",
    "        if isinstance(arr[idx], list): # a list; a viable path.\n",
    "            for sub in n: # check each subsequence in n\n",
    "                if suffix.startswith(sub):\n",
    "                    next_index = idx+len(sub)\n",
    "                    # everything in arr[idx] -> next_idx\n",
    "                    if arr[next_index] == None:    \n",
    "                        arr[next_index] = [x+[sub] for x in arr[idx]]\n",
    "                    else:\n",
    "                        arr[next_index] += [x+[sub] for x in arr[idx]]\n",
    "\n",
    "    return pd.Series(arr, index=m_string)[-1]\n",
    "\n",
    "\n",
    "\n",
    "print(tab_all_construct('abcdef', ['ab', 'abc', 'cd', 'def', 'abcd']))\n",
    "print(tab_all_construct('panepaneeeee', ['p','an','e']))\n",
    "\n",
    "print(len(tab_all_construct('eeeeeeeeeeeeeeeeef', ['ef', 'e', 'eeeeee','eee','eeee',])))\n",
    "print(len(tab_all_construct('eeeeeeeeeeeeeeeeef', ['eeeeeeeeeef', 'e', 'eeeeee','eee','eeee',])))"
   ]
  },
  {
   "cell_type": "markdown",
   "id": "b5a27ddf",
   "metadata": {},
   "source": [
    "These last three have all been coded to return only the last value, but the full tables/Series are available inside the function. "
   ]
  },
  {
   "cell_type": "markdown",
   "id": "8e706a4a",
   "metadata": {},
   "source": [
    "I hope you've enjoyed reading this notebook about `memoization` and `tabulation` in Python!"
   ]
  },
  {
   "cell_type": "code",
   "execution_count": null,
   "id": "50cd597a",
   "metadata": {},
   "outputs": [],
   "source": []
  }
 ],
 "metadata": {
  "kernelspec": {
   "display_name": "Python 3 (ipykernel)",
   "language": "python",
   "name": "python3"
  },
  "language_info": {
   "codemirror_mode": {
    "name": "ipython",
    "version": 3
   },
   "file_extension": ".py",
   "mimetype": "text/x-python",
   "name": "python",
   "nbconvert_exporter": "python",
   "pygments_lexer": "ipython3",
   "version": "3.11.4"
  },
  "toc": {
   "base_numbering": 1,
   "nav_menu": {},
   "number_sections": true,
   "sideBar": true,
   "skip_h1_title": false,
   "title_cell": "Table of Contents",
   "title_sidebar": "Contents",
   "toc_cell": false,
   "toc_position": {},
   "toc_section_display": true,
   "toc_window_display": false
  },
  "varInspector": {
   "cols": {
    "lenName": 16,
    "lenType": 16,
    "lenVar": 40
   },
   "kernels_config": {
    "python": {
     "delete_cmd_postfix": "",
     "delete_cmd_prefix": "del ",
     "library": "var_list.py",
     "varRefreshCmd": "print(var_dic_list())"
    },
    "r": {
     "delete_cmd_postfix": ") ",
     "delete_cmd_prefix": "rm(",
     "library": "var_list.r",
     "varRefreshCmd": "cat(var_dic_list()) "
    }
   },
   "types_to_exclude": [
    "module",
    "function",
    "builtin_function_or_method",
    "instance",
    "_Feature"
   ],
   "window_display": false
  }
 },
 "nbformat": 4,
 "nbformat_minor": 5
}
