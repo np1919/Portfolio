{
 "cells": [
  {
   "cell_type": "markdown",
   "id": "0e20b11b",
   "metadata": {},
   "source": [
    "\n",
    "# Memoization and Tabulation in Python \n",
    "\n",
    "\"Dynamic Programming -  Learn to Solve Algorithmic Problems & Coding Challenges\"\n",
    "Available on YouTube:\n",
    "\n",
    "[https://www.youtube.com/watch?v=oBt53YbR9Kk](https://www.youtube.com/watch?v=oBt53YbR9Kk)\n",
    "\n",
    "\n",
    "(by Alvin from freeCodeCamp.org)\n",
    "\n",
    "\n",
    "Ned Poland - November 2021\n",
    "\n",
    "[https://www.linkedin.com/in/nate-poland/](https://www.linkedin.com/in/nate-poland/)\n",
    "\n",
    "[https://github.com/np1919](https://github.com/np1919)"
   ]
  },
  {
   "cell_type": "markdown",
   "id": "b9f4f616",
   "metadata": {},
   "source": [
    "## Dynamic Programming\n",
    "\n",
    "In the video above, Alvin clearly and elegantly breaks down the key concepts of dynamic programming in terms of solving complicated (algorithmic) problems at scale. This is my first work learning about **big-O notation, the time and space complexity of a computation**, and I thought it was a great introduction. \n",
    "\n",
    "My understanding is that **dynamic programming seeks to solve large problems by breaking them down into smaller ones that we know how to solve**.\n",
    "\n",
    "\n",
    "In the video above, the code is written in Javascript, but I've written my implementations in Python. \n",
    "\n",
    "In the workbook below I attempt to solve a few (fairly simple) algorthmic problems, as described in the video. \n",
    "\n",
    "The functions are split broadly into two categories of algorithmic solving used in dynamic programming; "
   ]
  },
  {
   "cell_type": "markdown",
   "id": "a73af387",
   "metadata": {},
   "source": [
    "# `memoization` (recursion) and `tabulation`\n",
    "\n",
    " "
   ]
  },
  {
   "cell_type": "markdown",
   "id": "f40f0a32",
   "metadata": {},
   "source": [
    "Memoization is the process of **storing the results of a function call for later reference**, to reduce the computation necessary to solve the algorithm as a whole.\n",
    "\n",
    "This requires a 'memo' data container, to store the values you've already calculated -- and keep you from doing work that you've done before in the call stack. My first idea was to use a basic dictionary constructor as a default argument. \n",
    "\n",
    "However, due to way that Python functions store default arguments inside the function definition, caching a memo was more difficult than originally anticipated. \n",
    "\n",
    "Because it is the **function definition** which holds the default arguments, and not the **instance of the class**, only one dictionary was ever created -- and shared -- meaning that the call stack from one set of arguments was being used for all subsequent calls to the function. This is not the behaviour I was looking for.\n",
    "\n",
    "I couldn't use @cache or @lru-cache, because some of the functions below return Python lists, which aren't hashable as they are mutable objects in Python. I wasn't really looking for a cache anyway -- it isn't necessary to summon the values up again; I simply wanted a fresh memo object for each call (without defining a new one each time -- which may in fact be a better option in many cases). \n",
    "\n",
    "---"
   ]
  },
  {
   "cell_type": "markdown",
   "id": "580addba",
   "metadata": {},
   "source": [
    "If we define a default argument in the function definition, like so:"
   ]
  },
  {
   "cell_type": "code",
   "execution_count": 30,
   "id": "f53f15dc",
   "metadata": {},
   "outputs": [],
   "source": [
    "def can_sum(m:int, n:list, memo:dict=dict()):\n",
    "    \"\"\" accepts:\n",
    "                m: integer\n",
    "                n: list of integers\n",
    "        returns:\n",
    "            bool;\n",
    "             whether or not any combination of the integers in `n` can sum to the target, `m`.\n",
    "            replacement is permitted. all integers in n will be non-negative.\n",
    "        \"\"\"\n",
    "    #### Base Case/Win Condition; subtract successfully to 0.\n",
    "    if m == 0: \n",
    "        return True\n",
    "\n",
    "    #### Lose Condition; subtracted too far. Return False\n",
    "    if m < 0:\n",
    "        memo[m] = False\n",
    "        return False\n",
    "    \n",
    "    #### Early Return --> target already in memory\n",
    "    if m in memo:\n",
    "        return memo[m]\n",
    "    \n",
    "    #### Branching/Recursive Logic;\n",
    "            # Iterate through integers in `n`\n",
    "    for element in n:\n",
    "            # subtract `element` from m. Pass the remainder into a recursive call.\n",
    "        remainder = m - element\n",
    "            # calculate that branch/node;\n",
    "        result = can_sum(remainder, n, memo)\n",
    "        \n",
    "            # if ever a node reaches 0, we can return True early. --> we Can Sum to the target. \n",
    "        if  result == True:\n",
    "            memo[m] = True\n",
    "            return True\n",
    "        else:\n",
    "            # if not, return False. Memo-ize in either case. As long as a recursive call is still running from this branch, \n",
    "            # the value at this stage of `m` will not be set to False in the dictionary\n",
    "            memo[m] = False\n",
    "            return False"
   ]
  },
  {
   "cell_type": "markdown",
   "id": "4b2d9169",
   "metadata": {},
   "source": [
    "Then only one dictionary is ever created, and it sits in the function definition:"
   ]
  },
  {
   "cell_type": "code",
   "execution_count": 32,
   "id": "22ab3e61",
   "metadata": {},
   "outputs": [
    {
     "data": {
      "text/plain": [
       "<function __main__.can_sum(m: int, n: list, memo: dict = {})>"
      ]
     },
     "execution_count": 32,
     "metadata": {},
     "output_type": "execute_result"
    }
   ],
   "source": [
    "can_sum"
   ]
  },
  {
   "cell_type": "markdown",
   "id": "65016af9",
   "metadata": {},
   "source": [
    "When we call the function without assigning a new memo object:"
   ]
  },
  {
   "cell_type": "code",
   "execution_count": 34,
   "id": "353891d5",
   "metadata": {},
   "outputs": [
    {
     "data": {
      "text/plain": [
       "True"
      ]
     },
     "execution_count": 34,
     "metadata": {},
     "output_type": "execute_result"
    }
   ],
   "source": [
    "can_sum(8, [1,2,3,5])"
   ]
  },
  {
   "cell_type": "markdown",
   "id": "c240d7ee",
   "metadata": {},
   "source": [
    "The memo values for the function called with these arguments are then stored in the **default arguments of the function definition**"
   ]
  },
  {
   "cell_type": "code",
   "execution_count": 39,
   "id": "84164e72",
   "metadata": {},
   "outputs": [
    {
     "data": {
      "text/plain": [
       "<function __main__.can_sum(m: int, n: list, memo: dict = {1: True, 2: True, 3: True, 4: True, 5: True, 6: True, 7: True, 8: True})>"
      ]
     },
     "execution_count": 39,
     "metadata": {},
     "output_type": "execute_result"
    }
   ],
   "source": [
    "can_sum"
   ]
  },
  {
   "cell_type": "markdown",
   "id": "08f0ffc6",
   "metadata": {},
   "source": [
    "If we then call the function with different arguments (again, without entering our own memo object):"
   ]
  },
  {
   "cell_type": "code",
   "execution_count": 40,
   "id": "f4e9e90c",
   "metadata": {},
   "outputs": [
    {
     "data": {
      "text/plain": [
       "True"
      ]
     },
     "execution_count": 40,
     "metadata": {},
     "output_type": "execute_result"
    }
   ],
   "source": [
    "can_sum(11, [4, 8, 14])\n"
   ]
  },
  {
   "cell_type": "markdown",
   "id": "e977d08c",
   "metadata": {},
   "source": [
    "You end up with an incorrect answer. Unfortunately, you need to pass a new memo object to each function call, even if passing the dict() call into each function looks clunky."
   ]
  },
  {
   "cell_type": "markdown",
   "id": "cad7b07a",
   "metadata": {},
   "source": [
    "Which gives erroneous results when we call the function with new parameters:"
   ]
  },
  {
   "cell_type": "code",
   "execution_count": 45,
   "id": "7a652176",
   "metadata": {
    "scrolled": true
   },
   "outputs": [
    {
     "name": "stdout",
     "output_type": "stream",
     "text": [
      "True\n",
      "False\n",
      "False\n"
     ]
    }
   ],
   "source": [
    "print(can_sum(8, [2,3,5], dict()))\n",
    "print(can_sum(11, [4, 8, 14], dict()))\n",
    "print(can_sum(3000, [7,14], dict())) # note that this SHOULD return false, but because the memo was stored in the function dictionary,\n",
    "                            # it returns true. Below, you can also see the many values which are not multiples of 7 (or 14)\n",
    "                            # which are now stored in the function's (bound?) `memo` dictionary\n",
    "# can_sum\n",
    "\n",
    "# returns:\n",
    "# True\n",
    "# False\n",
    "# False\n",
    "# ... as expected."
   ]
  },
  {
   "cell_type": "markdown",
   "id": "5ffcb17c",
   "metadata": {},
   "source": [
    "If we redefined the function, and ran the cells in opposite order, we would return False for both"
   ]
  },
  {
   "cell_type": "markdown",
   "id": "5fe5b72a",
   "metadata": {},
   "source": [
    "---"
   ]
  },
  {
   "cell_type": "markdown",
   "id": "b52a0896",
   "metadata": {},
   "source": [
    "# Recursion\n",
    "\n",
    "## Introduction\n",
    "\n",
    "In recursive algorithms, we break a problem down into smaller and smaller parts until we reach a **Base Case** scenario -- which either produces our desired result, or proves it's impossibility.\n",
    "\n",
    "For example, if our desired result was that a target integer was to be reduced to 0 by *subtracting* (positive) integers from another list --> the 'base case' would be that the result of our function call ends up making 0. Conversely, the impossible 'base case' would be if our function call returns any number less than 0 --> since we're subtracting positive integers, we can't add to the final value in any way from there.\n",
    "\n",
    "If our goal was to reach 0, we can eventually reach 0 by performing the operation `-1` on the value 1. We can continue on in that way until we've subtracted the whole integer, if we are allowed to use at least 10 `-1`'s."
   ]
  },
  {
   "cell_type": "code",
   "execution_count": 46,
   "id": "525201b7",
   "metadata": {},
   "outputs": [
    {
     "name": "stdout",
     "output_type": "stream",
     "text": [
      "10\t9\t8\t7\t6\t5\t4\t3\t2\t1\t"
     ]
    },
    {
     "data": {
      "text/plain": [
       "True"
      ]
     },
     "execution_count": 46,
     "metadata": {},
     "output_type": "execute_result"
    }
   ],
   "source": [
    "def sub_1(m):\n",
    "    ''' subtract 1 from m until you reach 0'''\n",
    "    \n",
    "    # Base Case; \n",
    "    # m reaches 0.\n",
    "    if m == 0:\n",
    "        return True\n",
    "    if m > 0:\n",
    "        # verbose\n",
    "        print(m, end='\\t')       \n",
    "        # call the function inside itself (recursively). \n",
    "        return sub_1(m-1)\n",
    "        \n",
    "sub_1(10)\n",
    "# despite the other calls needing to resolve before \n",
    "# calculating the value of sub_1(10); \n",
    "# the results are displayed in order."
   ]
  },
  {
   "cell_type": "markdown",
   "id": "2c03b6e8",
   "metadata": {},
   "source": [
    "In the above, there's no need to use recursion -- subtracting a known integer from another known integer takes O(1) time (I think?), whereas we are performing 10 operations instead -- that's bad. Another way to criticise would be to say that there's only one 'branch' to the tree -- because we can only subtract 1 -- which means a recursive algorithm was definitely not necessary.\n",
    "\n",
    "The problems below add more variables to that second (now set of) value(s); such that we have an array of values, `n`, which we use to achieve some desired result with relation to a target, `m`. These values could be sequences(strings), or integers, etc., depending on the use case."
   ]
  },
  {
   "cell_type": "markdown",
   "id": "d976fa06",
   "metadata": {},
   "source": [
    "---"
   ]
  },
  {
   "cell_type": "markdown",
   "id": "54126487",
   "metadata": {},
   "source": [
    "## Memoization for Recursive Problems\n",
    "\n",
    "**Memoization** is the idea that the smallest iteration of a dynamic programming problem will likely have to be calculated many many times. It seeks to store the values for those simple calculations in a record; from there, it can simply reference the record when the problem comes up again, instead of having to re-calculate the value.\n",
    "\n",
    "Problems are often visualized as 'recursive trees' in this method, where, for example; from a large sequence (head node), we begin to chip away at the values, breaking them into smaller and smaller chunks by means of a process we can eventually perform in reverse. If we are able to fully *digest* the problem using our very small method --> then we can reconstruct our steps, and are sure we can climb back up to the top of the tree (thereby solving our big problem). \n",
    "\n",
    "Typically, many of the branches will not satisfy our needs. In some cases we only need to find a single path back, and for other problems we might want to find all paths. Within these requirements we hope to keep our **time and space complexity** to a minimum; *linear is much better than exponential, especially at scale.*\n",
    "\n",
    "\n",
    "In memoization problems, we use a cached memory to save the results from our (smaller) recursive calls in memory. By doing so, we reduce the number of calculations (*time*) necessary to complete the problem. The amount of *space* necessary does remain relevant in this type of solution."
   ]
  },
  {
   "cell_type": "markdown",
   "id": "14a5f080",
   "metadata": {},
   "source": [
    "---"
   ]
  },
  {
   "cell_type": "markdown",
   "id": "e3869007",
   "metadata": {},
   "source": [
    "## Grid Traveler\n",
    "\n",
    "The goal in this case is to move from the top left of an 18 * 18 grid to the bottom right, and count how many different ways you could get there. \n",
    "\n",
    "The **Base Case** here is that you end up at position (1,1) -> able to move off the last corner of the grid. \n",
    "\n",
    "\n",
    "If we imagine the grid instead as x and y cartesian points, we could say that any positions where the x or y point is at 0 is **out of bounds**; equally, any x or y value greater than the (square) grid would be out of bounds. Therefore; starting at the top left of an 18\\*18 grid, how many ways are there to find yourself at the bottom right, moving only right or down?\n",
    "\n",
    "There will be only one path to the finish once the traveler reaches x=1 and y=1. This means you're at the corner, and moving right or down (the only legal moves) will result in success."
   ]
  },
  {
   "cell_type": "markdown",
   "id": "fea7e609",
   "metadata": {},
   "source": [
    "Note: Grid Traveler can use the same cache, as you are always moving by 1 and the board follows linear paths. "
   ]
  },
  {
   "cell_type": "code",
   "execution_count": 51,
   "id": "eb05ff6b",
   "metadata": {},
   "outputs": [
    {
     "name": "stdout",
     "output_type": "stream",
     "text": [
      "lose cases\n",
      "0\n",
      "0\n",
      "0\n",
      "how many paths to the exit?\n",
      "3\n",
      "6\n",
      "base win conditions\n",
      "1\n",
      "1\n",
      "1\n",
      "for an 18x18 grid;\n",
      "2333606220\n"
     ]
    }
   ],
   "source": [
    "def grid_traveler(m:int, n:int, memo:dict=dict()):\n",
    "    '''beginning at the top left of a 2-D grid, \n",
    "        and moving only DOWN or to the RIGHT;\n",
    "         HOW MANY WAYS can you travel to the goal?'''\n",
    "\n",
    "    # Base Cases;\n",
    "    if m == 1 and n == 1:# Win -> you've reached the bottom right corner.\n",
    "        return 1\n",
    "    \n",
    "    if m == 0 or n == 0: # Lose -> you're out of bounds.\n",
    "        return 0\n",
    "\n",
    "     \n",
    "    # Memoization\n",
    "    if (m, n) in memo: \n",
    "        return memo[(m, n)]\n",
    "    if (n, m) in memo:\n",
    "        return memo[(n, m)]\n",
    "\n",
    "    \n",
    "    go_down = grid_traveler(m-1, n, memo) # move down\n",
    "    go_right = grid_traveler(m, n-1, memo) # move right\n",
    "    \n",
    "    total = go_down + go_right # the total will be the sum of the potential paths stemming from this node\n",
    "    memo[(m, n)] = total # since the underlying grid will never change, keep cache in func.\n",
    "\n",
    "    return total\n",
    "        \n",
    "\n",
    "\n",
    "# Wrapping this function means calculating each value again for each call -- \n",
    "# This is redundant, as the total # of paths for each 'node' will remain constant\n",
    "# Over any number of larger grids. \n",
    "# \n",
    "print('lose cases')\n",
    "print(grid_traveler(0, 0))\n",
    "print(grid_traveler(18,0))\n",
    "print(grid_traveler(0,18))\n",
    "print('how many paths to the exit?')\n",
    "print(grid_traveler(2,3))\n",
    "print(grid_traveler(3,3))\n",
    "print('base win conditions')\n",
    "print(grid_traveler(1,1))\n",
    "print(grid_traveler(18,1))\n",
    "print(grid_traveler(1,18))\n",
    "print('for an 18x18 grid;')\n",
    "print(grid_traveler(18,18))\n",
    "# grid_traveler"
   ]
  },
  {
   "cell_type": "code",
   "execution_count": 85,
   "id": "547b75e5",
   "metadata": {},
   "outputs": [
    {
     "data": {
      "text/plain": [
       "170"
      ]
     },
     "execution_count": 85,
     "metadata": {},
     "output_type": "execute_result"
    }
   ],
   "source": [
    "from collections import defaultdict\n",
    "counter = defaultdict(int)\n",
    "\n",
    "for x, y in grid_traveler.__defaults__[0].keys():\n",
    "    counter[x] += 1\n",
    "    counter[y] += 1\n",
    "len(grid_traveler.__defaults__[0])"
   ]
  },
  {
   "cell_type": "code",
   "execution_count": 86,
   "id": "128f4ce6",
   "metadata": {},
   "outputs": [
    {
     "data": {
      "text/plain": [
       "defaultdict(int,\n",
       "            {1: 17,\n",
       "             2: 19,\n",
       "             3: 19,\n",
       "             4: 19,\n",
       "             5: 19,\n",
       "             6: 19,\n",
       "             7: 19,\n",
       "             8: 19,\n",
       "             9: 19,\n",
       "             10: 19,\n",
       "             11: 19,\n",
       "             12: 19,\n",
       "             13: 19,\n",
       "             14: 19,\n",
       "             15: 19,\n",
       "             16: 19,\n",
       "             17: 19,\n",
       "             18: 19})"
      ]
     },
     "execution_count": 86,
     "metadata": {},
     "output_type": "execute_result"
    }
   ],
   "source": [
    "counter"
   ]
  },
  {
   "cell_type": "markdown",
   "id": "47053310",
   "metadata": {},
   "source": [
    "how_sum\n",
    "---\n",
    "\n",
    "Find *any way* to create the target integer `m` using the elements in `n`, with replacement.\n",
    "\n",
    "We can return early as soon as we find a complete path. \n"
   ]
  },
  {
   "cell_type": "code",
   "execution_count": 46,
   "id": "dca11581",
   "metadata": {},
   "outputs": [
    {
     "name": "stdout",
     "output_type": "stream",
     "text": [
      "[3, 2, 2]\n",
      "[3, 2, 2]\n",
      "[2, 2, 2, 2]\n",
      "\n",
      "None\n",
      "None\n"
     ]
    }
   ],
   "source": [
    "\n",
    "def how_sum(m:int, n:list, memo=dict()):\n",
    "    '''return one possible combination of sub-arrays in `n` which sum to produce `m` '''\n",
    "    # Base case; you've removed a sub-array from m and m is now 0; you win.\n",
    "    if m == 0:\n",
    "        return []\n",
    "    # Base failure case; you've removed a sub-array from m and m is now less than 0; you lose.\n",
    "    if m < 0:\n",
    "        return None\n",
    "    \n",
    "    # If you've done this before, don't.\n",
    "    if m in memo:\n",
    "        return memo[m]\n",
    "    \n",
    "    # iterate through elements in n.\n",
    "    for num in n:\n",
    "        remainder = m - num # create all possible remainders.\n",
    "        chain = how_sum(remainder, n, memo) # for each remainder, create a chain recursive call.\n",
    "        if chain is not None:            # when one eventually resolves, concatenate with this node and pass upwards\n",
    "            result = chain + [num]       #\n",
    "            memo[m] = result             # store the result and return it\n",
    "            return result\n",
    "        \n",
    "        else:                           # if the recursive call finishes and has no hits, this node is also a dud.\n",
    "            memo[m] = None\n",
    "    \n",
    "    \n",
    "print(how_sum(7, [2,3]))\n",
    "print(how_sum(7, [5,4])) # INCORRECT returned list.\n",
    "print(wrapper(how_sum,8, [2,3,5])) # this is correct, but the longest possible combination...\n",
    "print()\n",
    "print(wrapper(how_sum,7, [4,6]))\n",
    "print(wrapper(how_sum,300, [7, 14])) # from inside the wrapper, these calls correctly return None."
   ]
  },
  {
   "cell_type": "markdown",
   "id": "1c67dc02",
   "metadata": {},
   "source": [
    "best_sum\n",
    "---\n",
    "Find the shortest combination of elements in `n` which sum to target integer `m`.\n",
    "\n",
    "We'll have to exhaust every combination of our tree and examine each possible outcome. "
   ]
  },
  {
   "cell_type": "code",
   "execution_count": 47,
   "id": "4ba6dad6",
   "metadata": {},
   "outputs": [
    {
     "name": "stdout",
     "output_type": "stream",
     "text": [
      "[5, 5]\n",
      "[7]\n",
      "[4, 4]\n",
      "[25, 25, 25, 25]\n",
      "[100]\n",
      "[5, 5, 55, 55, 55, 55, 55, 55, 55, 55, 55, 55, 55, 55, 55, 55, 55, 55, 55, 55]\n"
     ]
    }
   ],
   "source": [
    "def best_sum(m:int, n:list, memo=dict()):\n",
    "    \"\"\"accept:\n",
    "        m: int -> the target sum\n",
    "        n: list: -> a list of integers with which to create the sum\n",
    "        memo: dict -> defaults to an empty dictionary. To save results simply\n",
    "        pass another dictionary.\n",
    "        \n",
    "        returns:\n",
    "             the shortest possible array of numbers from `n` which sum to `m`\n",
    "     \n",
    "     \"\"\"\n",
    "    # Base Case: Win; you've called recursively with an m value of 0.\n",
    "    if m == 0:\n",
    "        return []\n",
    "    # Base Case: Lose; you've gone too far.\n",
    "    if m < 0:\n",
    "        return None\n",
    "    if m in memo:\n",
    "        return memo[m]\n",
    "    \n",
    "    shortest = None # could easily be adapted to also provide the Longest combination\n",
    "    \n",
    "    for num in n:\n",
    "        remainder = m - num\n",
    "        chain = best_sum(remainder, n, memo) # returns a list, or None\n",
    "\n",
    "        if chain is not None:\n",
    "            combination = chain + [num] # chain returns as the shortest combination of the recursive call below\n",
    "\n",
    "            if shortest == None: # first time through\n",
    "                shortest = combination\n",
    "            if len(combination) < len(shortest): # check that this combination is the shortest one.\n",
    "                shortest = combination\n",
    "         \n",
    "            memo[m] = shortest # store in memory\n",
    "    \n",
    "    return shortest # return the shortest combination. \n",
    "\n",
    "\n",
    "## Example using wrapper\n",
    "print(wrapper(best_sum, 10, [1,2,3,4,5]))\n",
    "print(wrapper(best_sum, 7, [3,4,5,7]))\n",
    "print(wrapper(best_sum, 8, [1,4,5]))\n",
    "print(wrapper(best_sum, 100, [1,5,25]))\n",
    "print(wrapper(best_sum, 100, [1,5,25,100])) # notice that this 100 is not saved.\n",
    "print(wrapper(best_sum, 1000, [17,55,1,5,25]))"
   ]
  },
  {
   "cell_type": "markdown",
   "id": "b19cd3da",
   "metadata": {},
   "source": [
    "can_construct\n",
    "---\n",
    "\n",
    "Indicate whether or not a target *string* `m` can be created using the (sub-)sequences in `n`, with replacement. \n",
    "\n",
    "Return a bool."
   ]
  },
  {
   "cell_type": "code",
   "execution_count": 48,
   "id": "2a68f59b",
   "metadata": {
    "scrolled": true
   },
   "outputs": [
    {
     "name": "stdout",
     "output_type": "stream",
     "text": [
      "True\n",
      "False\n",
      "True\n",
      "False\n"
     ]
    }
   ],
   "source": [
    "def can_construct(m:str, n:list, memo=dict()):\n",
    "    \"\"\" define a function can_construct:\n",
    "    accepts:\n",
    "        `m` : a sequence\n",
    "        `n` : list of (sub)sequences, which can be used with replacement\n",
    "        optional: a memo-ization object, or cache; to store the results of our recursive calls. Defaults to an empty dictionary.\n",
    "    returns:\n",
    "        boolean value; whether the m, `m`, can be created from the elements of list, `n`\n",
    "        \"\"\"\n",
    "        #### Base Case/Win Condition --> m sequence `m` goes to 0.\n",
    "            #### Return True.\n",
    "    if m == \"\":\n",
    "        memo[m] = True\n",
    "        return True\n",
    "    \n",
    "        #### Early Return --> Already in Memo\n",
    "    if m in memo:\n",
    "        return memo[m]\n",
    "    \n",
    "        #### Branch Logic;\n",
    "        #### Iterate through elements of sequence `n` and look for a prefix (match) with the current `m` value. Subtract it\n",
    "        #### and keeping going\n",
    "\n",
    "    for word in n:\n",
    "        if m.startswith(word): # if word is a prefix of m;\n",
    "            chain = can_construct(m[len(word):], n) # call recursively on the remainder of the list\n",
    "            if chain == True: # Return early on the first True\n",
    "                memo[m] = True \n",
    "                return True\n",
    "\n",
    "        # If the whole chain isn't true by the end of the loops;\n",
    "        # save this `m` value in memory as False and return False\n",
    "    memo[m] = False\n",
    "    return False\n",
    "\n",
    "\n",
    "\n",
    "print(wrapper(can_construct, 'abcdef', ['ab', 'abc', 'cd', 'def', 'abcd', 'f']))\n",
    "print(wrapper(can_construct, 'skateboard', ['bo', 'rd', 'ate','t','ska','sk','boar']))\n",
    "print(wrapper(can_construct, 'enterapotentpot', ['a','p','ent','enter','ot','o','t']))\n",
    "print(wrapper(can_construct, 'eeeeeeeeeeeeeeeeeeeeeeeeeeeeeeeeeeeeeeeeeeeeeef', ['e','ee','eee','eeee','eeeee','eeeeee']))\n"
   ]
  },
  {
   "cell_type": "markdown",
   "id": "e532e474",
   "metadata": {},
   "source": [
    "allConstruct\n",
    "---\n",
    "Return **all possible** combinations of the elements in `n` which can create the sequence `m`.\n",
    "\n",
    "We'll have to calculate the whole tree to check all combinations."
   ]
  },
  {
   "cell_type": "code",
   "execution_count": 49,
   "id": "b7236829",
   "metadata": {},
   "outputs": [
    {
     "name": "stdout",
     "output_type": "stream",
     "text": [
      "[['purp', 'le'], ['p', 'urple']]\n",
      "[['ab', 'cd', 'ef'], ['abc', 'def'], ['abcd', 'ef']]\n",
      "[]\n",
      "[['enter', 'a', 'p', 'ot', 'ent', 'p', 'ot'], ['enter', 'a', 'p', 'ot', 'ent', 'p', 'o', 't'], ['enter', 'a', 'p', 'o', 't', 'ent', 'p', 'ot'], ['enter', 'a', 'p', 'o', 't', 'ent', 'p', 'o', 't']]\n"
     ]
    },
    {
     "name": "stdout",
     "output_type": "stream",
     "text": [
      "[]\n"
     ]
    }
   ],
   "source": [
    "def all_construct(m, n):\n",
    "    \"\"\" \n",
    "    accepts:\n",
    "        m: a string\n",
    "        n: a list of (sub-)strings, which can be used with replacement\n",
    "\n",
    "    returns:\n",
    "        2-D array of all combinations of n which produce m\n",
    "        \"\"\"\n",
    "        # Base Case; you've removed elements and found str(len(0)). You win.\n",
    "    if m == \"\":\n",
    "        return [[]]\n",
    "    \n",
    "        # container to hold all possible combinations\n",
    "    results = []\n",
    "    for word in n:\n",
    "        if m.startswith(word): # for this 'suffix', `m`;\n",
    "            results += [[word] + x for x in all_construct(m[len(word):], n)] \n",
    "                        # prepend word to each inner list of the list returned by the recursive call\n",
    "            # for each nested list returned from the recursive call, add this word to that list and pass \n",
    "            # the full list of combinations from this node upwards.\n",
    "\n",
    "        # return the container of all possible combinations from this node's branches and leaves. \n",
    "    return results\n",
    "\n",
    "\n",
    "print(all_construct('purple', ['purp', 'le', 'p', 'urple', 'e']))\n",
    "\n",
    "print(all_construct('abcdef', ['ab', 'abc', 'cd', 'def', 'abcd', 'ef']))\n",
    "print(all_construct('skateboard', ['bo', 'rd', 'ate','t','ska','sk','boar']))\n",
    "print(all_construct('enterapotentpot', ['a','p','ent','enter','ot','o','t']))\n",
    "print(all_construct('eeeeeeeeeeeeeeeeeeeeeef', ['e','ee','eee','eeee','eeeee','eeeeee']))\n"
   ]
  },
  {
   "cell_type": "markdown",
   "id": "963c1175",
   "metadata": {},
   "source": [
    "---"
   ]
  },
  {
   "cell_type": "markdown",
   "id": "66b8a801",
   "metadata": {},
   "source": [
    "# Tabulation"
   ]
  },
  {
   "cell_type": "markdown",
   "id": "5de614e7",
   "metadata": {},
   "source": [
    "Tabulation involves using a table to create an ordered, progressive solution for a problem.\n",
    "\n",
    "Alvin's rules for tabulation are as below:\n",
    "\n",
    "    -visualize the problem as a table\n",
    "    -size the table based on the inputs (usually length of target, m)\n",
    "    -initialize the table with default values\n",
    "    -seed the trivial answer into the table\n",
    "    -fill further positions based on the current position\n",
    "    \n",
    "For these purposes, I'll bring in pandas and numpy :)"
   ]
  },
  {
   "cell_type": "code",
   "execution_count": 50,
   "id": "ac00b953",
   "metadata": {},
   "outputs": [],
   "source": [
    "import pandas as pd\n",
    "import numpy as np"
   ]
  },
  {
   "cell_type": "markdown",
   "id": "7446115a",
   "metadata": {},
   "source": [
    "Fibonacci\n",
    "---\n"
   ]
  },
  {
   "cell_type": "code",
   "execution_count": 51,
   "id": "ceb8707c",
   "metadata": {},
   "outputs": [
    {
     "name": "stdout",
     "output_type": "stream",
     "text": [
      "5\n",
      "139583862445\n",
      "43516638122555047989641805373140394725407202037260729735885664398655775748034950972577909265605502785297675867877570\n"
     ]
    }
   ],
   "source": [
    "def fib(n):\n",
    "    current, previous = 0, 1\n",
    "    for x in range(n):\n",
    "        current, previous = current + previous, current # quick and easy tuple unpacking.\n",
    "    return current\n",
    "print(fib(5))\n",
    "print(fib(55))\n",
    "print(fib(555))"
   ]
  },
  {
   "cell_type": "markdown",
   "id": "243c8a26",
   "metadata": {},
   "source": [
    "tab_grid_traveler\n",
    "---"
   ]
  },
  {
   "cell_type": "code",
   "execution_count": 52,
   "id": "54eea1b0",
   "metadata": {},
   "outputs": [
    {
     "data": {
      "text/plain": [
       "6.0"
      ]
     },
     "metadata": {},
     "output_type": "display_data"
    },
    {
     "data": {
      "text/plain": [
       "252.0"
      ]
     },
     "metadata": {},
     "output_type": "display_data"
    },
    {
     "data": {
      "text/plain": [
       "2333606220.0"
      ]
     },
     "execution_count": 52,
     "metadata": {},
     "output_type": "execute_result"
    }
   ],
   "source": [
    "def tab_grid_traveler(m, n):\n",
    "    '''accept:\n",
    "            cartesian coordinates (m, n)\n",
    "            \n",
    "        return:\n",
    "            number of paths to (1,1)\n",
    "    '''\n",
    "    mat = np.zeros((m+1, n+1)) # form the grid\n",
    "    table = pd.DataFrame(mat)\n",
    "    start = table.iloc[1,1] = 1 # seed the table\n",
    "    for rowidx, row in table.iterrows(): \n",
    "        for colidx, col in enumerate(row): # for each position, moving from top left;\n",
    "            try:\n",
    "                table.iloc[rowidx+1, colidx] += table.iloc[rowidx, colidx] # add the cell values to the one below\n",
    "            except:\n",
    "                pass        # naive exception handling deals with moving out-of-bounds\n",
    "            try:\n",
    "                table.iloc[rowidx, colidx+1] += table.iloc[rowidx, colidx] # add the cell values to the one to the right\n",
    "            except:\n",
    "                pass\n",
    "   \n",
    "    \n",
    "    return table.iloc[-1,-1] # can be easily modified to return the actual df; currently returns the count at (1,1)\n",
    "\n",
    "\n",
    "display(tab_grid_traveler(3,3))\n",
    "display(tab_grid_traveler(6,6))\n",
    "tab_grid_traveler(18,18)"
   ]
  },
  {
   "cell_type": "markdown",
   "id": "343f838e",
   "metadata": {},
   "source": [
    "tab_can_sum\n",
    "---\n"
   ]
  },
  {
   "cell_type": "code",
   "execution_count": 53,
   "id": "ebe9a34c",
   "metadata": {},
   "outputs": [
    {
     "name": "stdout",
     "output_type": "stream",
     "text": [
      "(7, True)\n",
      "(300, False)\n"
     ]
    }
   ],
   "source": [
    "def tab_can_sum(m, n):\n",
    "    '''\n",
    "    accept:\n",
    "    m; integer\n",
    "    n; list of integers\n",
    "    \n",
    "    return:\n",
    "     ; bool\n",
    "         whether or not the target sum, `m`, can be constructed using the elements of `n`\n",
    "         with replacement\n",
    "     '''\n",
    "    arr = pd.Series(False, index=range(m+1)) # starting at base case 0 (index 0);\n",
    "    arr[0] = True # seed True value at m==0;\n",
    "    for idx, val in enumerate(arr): \n",
    "        if val == True: # if the cell has been seeded;\n",
    "            for num in n: \n",
    "                if not idx+num > m: # if the resulting index is not out of bounds;\n",
    "                    arr[idx+num] = True # seed the cell\n",
    "    \n",
    "    return  arr.index[m], arr[m]\n",
    "\n",
    "print(tab_can_sum(7, [5,3,4]))\n",
    "print(tab_can_sum(300, [7,14]))"
   ]
  },
  {
   "cell_type": "markdown",
   "id": "abd01bd4",
   "metadata": {},
   "source": [
    "tab_how_sum\n",
    "---"
   ]
  },
  {
   "cell_type": "code",
   "execution_count": 54,
   "id": "01c98209",
   "metadata": {},
   "outputs": [
    {
     "name": "stdout",
     "output_type": "stream",
     "text": [
      "[3, 3, 1]\n",
      "[5, 3]\n",
      "[7]\n",
      "[]\n",
      "[25, 25, 25, 25]\n",
      "[31, 31, 31, 5, 2]\n"
     ]
    }
   ],
   "source": [
    "def tab_how_sum(m, n):\n",
    "    '''\n",
    "          stores only one value in each cell.\n",
    "        iterates backwards over the list to 'pick up' the stored values.\n",
    "    \n",
    "    accepts:\n",
    "            m: integer\n",
    "            n: list of integers\n",
    "        returns:\n",
    "            one possible combination of elements from `n`, with replacement, which sum to produce `m`.\n",
    "            \n",
    "      \n",
    "    '''\n",
    "    \n",
    "\n",
    "    # create table\n",
    "    arr = [None for x in range(m+1)] # we're summing to a number, index m+1\n",
    "    arr[0] = [] # seed the table. this is our winning 'base case'.\n",
    "    \n",
    "        # container for return values\n",
    "    output = []\n",
    "    \n",
    "\n",
    "    for idx, val in enumerate(arr):\n",
    "        if val is not None: # if you're at a proven viable position; \n",
    "            for num in n: # for each element in `n`.\n",
    "                if idx+num < len(arr): # limit so you won't move out of bounds;\n",
    "                    \n",
    "                    if arr[idx+num] is not None:\n",
    "                        if num > arr[idx+num]: ####### check if the stored value is the largest... \n",
    "                                                ############ this isn't Necessarily the best route, but it is the biggest step.\n",
    "                                \n",
    "                            arr[idx+num] = num # assign the number that got you there to the resulting index.\n",
    "                    else:\n",
    "                        arr[idx+num] = num # assign the number that got you there to the resulting index.\n",
    "\n",
    "                    \n",
    "                    \n",
    "            # then simply iterate backwards and pick up your numbers.\n",
    "    if arr[m] is not None:\n",
    "        position = m\n",
    "        while position != 0:\n",
    "            output.append(arr[position])\n",
    "            position = position - arr[position] \n",
    "    return output\n",
    "\n",
    "\n",
    "print(tab_how_sum(7, [1,2,3]))\n",
    "print(tab_how_sum(8, [2,3,5]))\n",
    "print(tab_how_sum(7, [5,3,4, 7]))\n",
    "print(tab_how_sum(300, [7,14])) # Returns an empty list instead of None\n",
    "print(tab_how_sum(100, [1,2,5,25]))\n",
    "print(tab_how_sum(100, [1,2,5,25,31])) # note that this does not correctly identify [25,25,25,25] as the best solution\n",
    "\n"
   ]
  },
  {
   "cell_type": "code",
   "execution_count": 55,
   "id": "0a61faec",
   "metadata": {},
   "outputs": [
    {
     "name": "stdout",
     "output_type": "stream",
     "text": [
      "[3, 2, 2]\n",
      "[2, 2, 2, 2]\n",
      "[4, 3]\n",
      "None\n",
      "[1, 1, 1, 1, 1, 1, 1, 1, 1, 1, 1, 1, 1, 1, 1, 1, 1, 1, 1, 1, 1, 1, 1, 1, 1, 1, 1, 1, 1, 1, 1, 1, 1, 1, 1, 1, 1, 1, 1, 1, 1, 1, 1, 1, 1, 1, 1, 1, 1, 1, 1, 1, 1, 1, 1, 1, 1, 1, 1, 1, 1, 1, 1, 1, 1, 1, 1, 1, 1, 1, 1, 1, 1, 1, 1, 1, 1, 1, 1, 1, 1, 1, 1, 1, 1, 1, 1, 1, 1, 1, 1, 1, 1, 1, 1, 1, 1, 1, 1, 1]\n",
      "[1, 1, 1, 1, 1, 1, 1, 1, 1, 1, 1, 1, 1, 1, 1, 1, 1, 1, 1, 1, 1, 1, 1, 1, 1, 1, 1, 1, 1, 1, 1, 1, 1, 1, 1, 1, 1, 1, 1, 1, 1, 1, 1, 1, 1, 1, 1, 1, 1, 1, 1, 1, 1, 1, 1, 1, 1, 1, 1, 1, 1, 1, 1, 1, 1, 1, 1, 1, 1, 1, 1, 1, 1, 1, 1, 1, 1, 1, 1, 1, 1, 1, 1, 1, 1, 1, 1, 1, 1, 1, 1, 1, 1, 1, 1, 1, 1, 1, 1, 1]\n"
     ]
    }
   ],
   "source": [
    "def tab_how_sum2(m, n):\n",
    "    ''''version two!\n",
    "         instead of iterating backwards to 'pick up' the elements, it concatenates them in the forward iteration\n",
    "        (no chance to filter)    \n",
    "        \n",
    "    accepts:\n",
    "            m: integer\n",
    "            n: list of integers\n",
    "        returns:\n",
    "            one possible combination of elements from `n`, with replacement, which sum to produce `m`.\n",
    "            \n",
    "               \n",
    "    '''\n",
    "    \n",
    "    arr = [None for x in range(m+1)] # we're summing to a number, index m+1M\n",
    "    arr[0] = [] # seed the table\n",
    "\n",
    "    for idx, val in enumerate(arr): \n",
    "        if val is not None: \n",
    "            for num in n:\n",
    "                if idx+num < len(arr):\n",
    "                    if arr[idx+num] == None:\n",
    "                        arr[idx+num] = val + [num]  \n",
    "                    else:  \n",
    "                        arr[idx+num] = val + [num]\n",
    "                        \n",
    "                        \n",
    "    return arr[m]\n",
    "\n",
    "print(tab_how_sum2(7, [2,3]))\n",
    "print(tab_how_sum2(8, [2,3,5]))\n",
    "print(tab_how_sum2(7, [5,3,4, 7]))\n",
    "print(tab_how_sum2(300, [7,14])) # Returns None instead of an empty list\n",
    "print(tab_how_sum2(100, [1,2,5,25]))\n",
    "print(tab_how_sum2(100, [1,2,5,25,31])) # this solution is much more naive\n",
    "\n"
   ]
  },
  {
   "cell_type": "markdown",
   "id": "01fbd05c",
   "metadata": {},
   "source": [
    "tab_best_sum\n",
    "---\n",
    "\n",
    "Synthesis of the two answers to tab_how_sum, above."
   ]
  },
  {
   "cell_type": "code",
   "execution_count": 56,
   "id": "439c0cd4",
   "metadata": {},
   "outputs": [
    {
     "name": "stdout",
     "output_type": "stream",
     "text": [
      "[2, 2, 3]\n",
      "[3, 5]\n",
      "[7]\n",
      "[25, 25, 25, 25]\n",
      "[25, 25, 25, 25]\n"
     ]
    }
   ],
   "source": [
    "def tab_best_sum(m, n):\n",
    "    ''' accepts:\n",
    "            m: an integer\n",
    "            n: a list of integers\n",
    "    \n",
    "    returns:\n",
    "        the SHORTEST combination of elements of `n` which sum to `m`\n",
    "    '''\n",
    "    output = []\n",
    "    arr = [None for x in range(m+1)] \n",
    "    arr[0] = [] \n",
    "\n",
    "    for idx, val in enumerate(arr): \n",
    "        if val is not None:\n",
    "            for num in n:\n",
    "                if idx+num < len(arr):\n",
    "                    if arr[idx+num] == None:\n",
    "                        arr[idx+num] = val + [num]  \n",
    "                    elif len(val + [num]) < len(arr[idx+num]):#### Add condition \n",
    "                                                              #### (that the replacement is shorter)\n",
    "                        arr[idx+num] = val + [num]\n",
    "\n",
    "    return arr[m]\n",
    "\n",
    "\n",
    "print(tab_best_sum(7, [2,3]))\n",
    "print(tab_best_sum(8, [2,3,5]))\n",
    "print(tab_best_sum(7, [5,3,4, 7]))\n",
    "print(tab_best_sum(100, [1,2,5,25]))\n",
    "print(tab_best_sum(100, [1,2,5,25,31])) # this solution correctly identifies the length of each substep \n",
    "                                        # (intead of just the value of its most recent step, as in tab_how_sum)"
   ]
  },
  {
   "cell_type": "markdown",
   "id": "6868a20a",
   "metadata": {},
   "source": [
    "tab_can_construct\n",
    "---"
   ]
  },
  {
   "cell_type": "code",
   "execution_count": 57,
   "id": "43ad48a0",
   "metadata": {},
   "outputs": [
    {
     "name": "stderr",
     "output_type": "stream",
     "text": [
      "C:\\Users\\polan\\AppData\\Local\\Temp\\ipykernel_3384\\448419389.py:18: FutureWarning: Series.__setitem__ treating keys as positions is deprecated. In a future version, integer keys will always be treated as labels (consistent with DataFrame behavior). To set a value by position, use `ser.iloc[pos] = value`\n",
      "  arr[0] = True # seed the viable case\n"
     ]
    },
    {
     "ename": "AttributeError",
     "evalue": "'Series' object has no attribute 'iteritems'",
     "output_type": "error",
     "traceback": [
      "\u001b[1;31m---------------------------------------------------------------------------\u001b[0m",
      "\u001b[1;31mAttributeError\u001b[0m                            Traceback (most recent call last)",
      "\u001b[1;32m~\\AppData\\Local\\Temp\\ipykernel_3384\\448419389.py\u001b[0m in \u001b[0;36m?\u001b[1;34m()\u001b[0m\n\u001b[0;32m     24\u001b[0m                 \u001b[1;32mif\u001b[0m \u001b[0msub\u001b[0m\u001b[1;33m.\u001b[0m\u001b[0mstartswith\u001b[0m\u001b[1;33m(\u001b[0m\u001b[0mcurrent_letter\u001b[0m\u001b[1;33m)\u001b[0m \u001b[1;32mand\u001b[0m \u001b[1;33m(\u001b[0m\u001b[0midx\u001b[0m\u001b[1;33m+\u001b[0m\u001b[0mlen\u001b[0m\u001b[1;33m(\u001b[0m\u001b[0msub\u001b[0m\u001b[1;33m)\u001b[0m \u001b[1;33m<\u001b[0m \u001b[0mlen\u001b[0m\u001b[1;33m(\u001b[0m\u001b[0marr\u001b[0m\u001b[1;33m)\u001b[0m\u001b[1;33m)\u001b[0m\u001b[1;33m:\u001b[0m\u001b[1;33m\u001b[0m\u001b[1;33m\u001b[0m\u001b[0m\n\u001b[0;32m     25\u001b[0m                     \u001b[0marr\u001b[0m\u001b[1;33m[\u001b[0m\u001b[0midx\u001b[0m\u001b[1;33m+\u001b[0m\u001b[0mlen\u001b[0m\u001b[1;33m(\u001b[0m\u001b[0msub\u001b[0m\u001b[1;33m)\u001b[0m\u001b[1;33m]\u001b[0m \u001b[1;33m=\u001b[0m \u001b[1;32mTrue\u001b[0m\u001b[1;33m\u001b[0m\u001b[1;33m\u001b[0m\u001b[0m\n\u001b[0;32m     26\u001b[0m     \u001b[1;32mreturn\u001b[0m \u001b[0marr\u001b[0m\u001b[1;33m[\u001b[0m\u001b[1;33m-\u001b[0m\u001b[1;36m1\u001b[0m\u001b[1;33m]\u001b[0m\u001b[1;33m\u001b[0m\u001b[1;33m\u001b[0m\u001b[0m\n\u001b[0;32m     27\u001b[0m \u001b[1;33m\u001b[0m\u001b[0m\n\u001b[1;32m---> 28\u001b[1;33m \u001b[0mtab_can_construct\u001b[0m\u001b[1;33m(\u001b[0m\u001b[1;34m'abcdef'\u001b[0m\u001b[1;33m,\u001b[0m \u001b[1;33m[\u001b[0m\u001b[1;34m'ab'\u001b[0m\u001b[1;33m,\u001b[0m \u001b[1;34m'abc'\u001b[0m\u001b[1;33m,\u001b[0m \u001b[1;34m'cd'\u001b[0m\u001b[1;33m,\u001b[0m \u001b[1;34m'def'\u001b[0m\u001b[1;33m,\u001b[0m \u001b[1;34m'abcd'\u001b[0m\u001b[1;33m]\u001b[0m\u001b[1;33m)\u001b[0m\u001b[1;33m\u001b[0m\u001b[1;33m\u001b[0m\u001b[0m\n\u001b[0m",
      "\u001b[1;32m~\\AppData\\Local\\Temp\\ipykernel_3384\\448419389.py\u001b[0m in \u001b[0;36m?\u001b[1;34m(m, n)\u001b[0m\n\u001b[0;32m     16\u001b[0m     \u001b[1;31m# create table of length target string + 1\u001b[0m\u001b[1;33m\u001b[0m\u001b[1;33m\u001b[0m\u001b[0m\n\u001b[0;32m     17\u001b[0m     \u001b[0marr\u001b[0m \u001b[1;33m=\u001b[0m \u001b[0mpd\u001b[0m\u001b[1;33m.\u001b[0m\u001b[0mSeries\u001b[0m\u001b[1;33m(\u001b[0m\u001b[0mindex\u001b[0m\u001b[1;33m=\u001b[0m\u001b[1;33m[\u001b[0m\u001b[0mx\u001b[0m \u001b[1;32mfor\u001b[0m \u001b[0mx\u001b[0m \u001b[1;32min\u001b[0m \u001b[0mm\u001b[0m\u001b[1;33m]\u001b[0m \u001b[1;33m+\u001b[0m \u001b[1;33m[\u001b[0m\u001b[1;34m'Final'\u001b[0m\u001b[1;33m]\u001b[0m\u001b[1;33m,\u001b[0m \u001b[0mdata\u001b[0m \u001b[1;33m=\u001b[0m \u001b[1;32mFalse\u001b[0m\u001b[1;33m)\u001b[0m\u001b[1;33m\u001b[0m\u001b[1;33m\u001b[0m\u001b[0m\n\u001b[0;32m     18\u001b[0m     \u001b[0marr\u001b[0m\u001b[1;33m[\u001b[0m\u001b[1;36m0\u001b[0m\u001b[1;33m]\u001b[0m \u001b[1;33m=\u001b[0m \u001b[1;32mTrue\u001b[0m \u001b[1;31m# seed the viable case\u001b[0m\u001b[1;33m\u001b[0m\u001b[1;33m\u001b[0m\u001b[0m\n\u001b[0;32m     19\u001b[0m \u001b[1;33m\u001b[0m\u001b[0m\n\u001b[1;32m---> 20\u001b[1;33m     \u001b[1;32mfor\u001b[0m \u001b[0midx\u001b[0m\u001b[1;33m,\u001b[0m \u001b[1;33m(\u001b[0m\u001b[0mkey\u001b[0m\u001b[1;33m,\u001b[0m \u001b[0mval\u001b[0m\u001b[1;33m)\u001b[0m \u001b[1;32min\u001b[0m \u001b[0mzip\u001b[0m\u001b[1;33m(\u001b[0m\u001b[0mrange\u001b[0m\u001b[1;33m(\u001b[0m\u001b[0mlen\u001b[0m\u001b[1;33m(\u001b[0m\u001b[0mm\u001b[0m\u001b[1;33m)\u001b[0m\u001b[1;33m+\u001b[0m\u001b[1;36m1\u001b[0m\u001b[1;33m)\u001b[0m\u001b[1;33m,\u001b[0m \u001b[0marr\u001b[0m\u001b[1;33m.\u001b[0m\u001b[0miteritems\u001b[0m\u001b[1;33m(\u001b[0m\u001b[1;33m)\u001b[0m\u001b[1;33m)\u001b[0m\u001b[1;33m:\u001b[0m \u001b[1;31m# for each possible starting position\u001b[0m\u001b[1;33m\u001b[0m\u001b[1;33m\u001b[0m\u001b[0m\n\u001b[0m\u001b[0;32m     21\u001b[0m         \u001b[1;32mif\u001b[0m \u001b[0marr\u001b[0m\u001b[1;33m[\u001b[0m\u001b[0midx\u001b[0m\u001b[1;33m]\u001b[0m \u001b[1;33m==\u001b[0m \u001b[1;32mTrue\u001b[0m\u001b[1;33m:\u001b[0m \u001b[1;31m# if it has been proven viable (we move right-wise)\u001b[0m\u001b[1;33m\u001b[0m\u001b[1;33m\u001b[0m\u001b[0m\n\u001b[0;32m     22\u001b[0m             \u001b[0mcurrent_letter\u001b[0m \u001b[1;33m=\u001b[0m \u001b[0marr\u001b[0m\u001b[1;33m.\u001b[0m\u001b[0mindex\u001b[0m\u001b[1;33m[\u001b[0m\u001b[0midx\u001b[0m\u001b[1;33m]\u001b[0m\u001b[1;33m\u001b[0m\u001b[1;33m\u001b[0m\u001b[0m\n\u001b[0;32m     23\u001b[0m             \u001b[1;32mfor\u001b[0m \u001b[0msub\u001b[0m \u001b[1;32min\u001b[0m \u001b[0mn\u001b[0m\u001b[1;33m:\u001b[0m \u001b[1;31m# check each subsequence in n\u001b[0m\u001b[1;33m\u001b[0m\u001b[1;33m\u001b[0m\u001b[0m\n",
      "\u001b[1;32mc:\\Users\\polan\\AppData\\Local\\Programs\\Python\\Python311\\Lib\\site-packages\\pandas\\core\\generic.py\u001b[0m in \u001b[0;36m?\u001b[1;34m(self, name)\u001b[0m\n\u001b[0;32m   6200\u001b[0m             \u001b[1;32mand\u001b[0m \u001b[0mname\u001b[0m \u001b[1;32mnot\u001b[0m \u001b[1;32min\u001b[0m \u001b[0mself\u001b[0m\u001b[1;33m.\u001b[0m\u001b[0m_accessors\u001b[0m\u001b[1;33m\u001b[0m\u001b[1;33m\u001b[0m\u001b[0m\n\u001b[0;32m   6201\u001b[0m             \u001b[1;32mand\u001b[0m \u001b[0mself\u001b[0m\u001b[1;33m.\u001b[0m\u001b[0m_info_axis\u001b[0m\u001b[1;33m.\u001b[0m\u001b[0m_can_hold_identifiers_and_holds_name\u001b[0m\u001b[1;33m(\u001b[0m\u001b[0mname\u001b[0m\u001b[1;33m)\u001b[0m\u001b[1;33m\u001b[0m\u001b[1;33m\u001b[0m\u001b[0m\n\u001b[0;32m   6202\u001b[0m         ):\n\u001b[0;32m   6203\u001b[0m             \u001b[1;32mreturn\u001b[0m \u001b[0mself\u001b[0m\u001b[1;33m[\u001b[0m\u001b[0mname\u001b[0m\u001b[1;33m]\u001b[0m\u001b[1;33m\u001b[0m\u001b[1;33m\u001b[0m\u001b[0m\n\u001b[1;32m-> 6204\u001b[1;33m         \u001b[1;32mreturn\u001b[0m \u001b[0mobject\u001b[0m\u001b[1;33m.\u001b[0m\u001b[0m__getattribute__\u001b[0m\u001b[1;33m(\u001b[0m\u001b[0mself\u001b[0m\u001b[1;33m,\u001b[0m \u001b[0mname\u001b[0m\u001b[1;33m)\u001b[0m\u001b[1;33m\u001b[0m\u001b[1;33m\u001b[0m\u001b[0m\n\u001b[0m",
      "\u001b[1;31mAttributeError\u001b[0m: 'Series' object has no attribute 'iteritems'"
     ]
    }
   ],
   "source": [
    "import pandas as pd\n",
    "def tab_can_construct(m, n):\n",
    "    '''accept:\n",
    "            m: a string\n",
    "            n: a list of strings\n",
    "            \n",
    "        return:\n",
    "            BOOL \n",
    "            \n",
    "            whether or not the target string`m`\n",
    "            can be constructed \n",
    "            using the elements from `n `\n",
    "            with replacement'''\n",
    " \n",
    "\n",
    "    # create table of length target string + 1\n",
    "    arr = pd.Series(index=[x for x in m] + ['Final'], data = False)\n",
    "    arr[0] = True # seed the viable case\n",
    "    \n",
    "    for idx, (key, val) in zip(range(len(m)+1), arr.iteritems()): # for each possible starting position\n",
    "        if arr[idx] == True: # if it has been proven viable (we move right-wise)\n",
    "            current_letter = arr.index[idx]            \n",
    "            for sub in n: # check each subsequence in n   \n",
    "                if sub.startswith(current_letter) and (idx+len(sub) < len(arr)):\n",
    "                    arr[idx+len(sub)] = True\n",
    "    return arr[-1]\n",
    "\n",
    "tab_can_construct('abcdef', ['ab', 'abc', 'cd', 'def', 'abcd'])"
   ]
  },
  {
   "cell_type": "markdown",
   "id": "5118a204",
   "metadata": {},
   "source": [
    "tab_count_construct\n",
    "---\n"
   ]
  },
  {
   "cell_type": "code",
   "execution_count": null,
   "id": "3c95e3bc",
   "metadata": {
    "scrolled": true
   },
   "outputs": [],
   "source": [
    "def tab_count_construct(m, n):\n",
    "    '''accept:\n",
    "            m: a string\n",
    "            n: a list of strings\n",
    "            \n",
    "        return:\n",
    "                INT\n",
    "                \n",
    "            HOW MANY WAYS `m`can be constructed \n",
    "            using the elements from `n `\n",
    "            with replacement'''\n",
    " \n",
    "\n",
    "    # create table of length target string + 1\n",
    "    arr = pd.Series(index=[x for x in m] + ['Final'], data = 0)\n",
    "    arr[0] = 1 # seed the viable case\n",
    "    \n",
    "    for idx, (key, val) in zip(range(len(m)+1), arr.iteritems()): # for each possible starting position\n",
    "        if arr[idx] > 0: # if it has been proven viable (we move right-wise)\n",
    "            for sub in n:\n",
    "                    # determine potential next index, based on subsequences in n\n",
    "                next_index = idx+len(sub)\n",
    "                    # check each subsequence in n against the suffix (m[idx:next_index]) \n",
    "                    # if the substring matches; and the next_index is valid;\n",
    "                if sub == m[idx:next_index] and (next_index < len(arr)): #len is indexed from 1\n",
    "                    arr[idx+len(sub)] += arr[idx] \n",
    "                        # add the paths to the next index\n",
    "    return arr[-1]\n",
    "\n",
    "print(tab_count_construct('abcdef', ['ab', 'abc', 'cd', 'def', 'abcd']))\n",
    "print(tab_count_construct('eeeeeeeeeeeeeeeeef', ['ef', 'e', 'eeeeee','eee','eeee',]))\n",
    "print(tab_count_construct('eeeeeeeeeeeeeeeeef', ['eeeeeeeeeef', 'e', 'eeeeee','eee','eeee',]))"
   ]
  },
  {
   "cell_type": "markdown",
   "id": "d0e5b708",
   "metadata": {},
   "source": [
    "tab_all_construct\n",
    "---\n",
    "\n",
    "Create a table containing all possible ways to construct target string `m` from the sub-sequences in `n`, with replacement."
   ]
  },
  {
   "cell_type": "code",
   "execution_count": null,
   "id": "ef5241a5",
   "metadata": {},
   "outputs": [],
   "source": [
    "def tab_all_construct(m, n):\n",
    "    '''accept:\n",
    "            m: a string\n",
    "            n: a list of strings\n",
    "            \n",
    "        return:\n",
    "            2-D array of ALL WAYS `m`can be constructed \n",
    "            using the elements from `n `\n",
    "            with replacement'''\n",
    "    n = set(n)\n",
    "    m_string = [x for x in m] + ['Final'] # m+1\n",
    "    arr = [None for x in m_string] # matching list\n",
    "    arr[0] = [[]] # seed the viable case\n",
    "\n",
    "    for idx, char in enumerate(m_string):\n",
    "        suffix = m[idx:]\n",
    "        if isinstance(arr[idx], list): # a list; a viable path.\n",
    "            for sub in n: # check each subsequence in n\n",
    "                if suffix.startswith(sub):\n",
    "                    next_index = idx+len(sub)\n",
    "                    # everything in arr[idx] -> next_idx\n",
    "                    if arr[next_index] == None:    \n",
    "                        arr[next_index] = [x+[sub] for x in arr[idx]]\n",
    "                    else:\n",
    "                        arr[next_index] += [x+[sub] for x in arr[idx]]\n",
    "\n",
    "    return pd.Series(arr, index=m_string)[-1]\n",
    "\n",
    "\n",
    "\n",
    "print(tab_all_construct('abcdef', ['ab', 'abc', 'cd', 'def', 'abcd']))\n",
    "print(tab_all_construct('panepaneeeee', ['p','an','e']))\n",
    "\n",
    "print(len(tab_all_construct('eeeeeeeeeeeeeeeeef', ['ef', 'e', 'eeeeee','eee','eeee',])))\n",
    "print(len(tab_all_construct('eeeeeeeeeeeeeeeeef', ['eeeeeeeeeef', 'e', 'eeeeee','eee','eeee',])))"
   ]
  },
  {
   "cell_type": "markdown",
   "id": "b5a27ddf",
   "metadata": {},
   "source": [
    "These last three have all been coded to return only the last value, but the full tables/Series are available inside the function. "
   ]
  },
  {
   "cell_type": "markdown",
   "id": "8e706a4a",
   "metadata": {},
   "source": [
    "I hope you've enjoyed reading this notebook about `memoization` and `tabulation` in Python!"
   ]
  },
  {
   "cell_type": "code",
   "execution_count": null,
   "id": "50cd597a",
   "metadata": {},
   "outputs": [],
   "source": []
  }
 ],
 "metadata": {
  "kernelspec": {
   "display_name": "Python 3 (ipykernel)",
   "language": "python",
   "name": "python3"
  },
  "language_info": {
   "codemirror_mode": {
    "name": "ipython",
    "version": 3
   },
   "file_extension": ".py",
   "mimetype": "text/x-python",
   "name": "python",
   "nbconvert_exporter": "python",
   "pygments_lexer": "ipython3",
   "version": "3.11.4"
  },
  "toc": {
   "base_numbering": 1,
   "nav_menu": {},
   "number_sections": true,
   "sideBar": true,
   "skip_h1_title": false,
   "title_cell": "Table of Contents",
   "title_sidebar": "Contents",
   "toc_cell": false,
   "toc_position": {},
   "toc_section_display": true,
   "toc_window_display": false
  },
  "varInspector": {
   "cols": {
    "lenName": 16,
    "lenType": 16,
    "lenVar": 40
   },
   "kernels_config": {
    "python": {
     "delete_cmd_postfix": "",
     "delete_cmd_prefix": "del ",
     "library": "var_list.py",
     "varRefreshCmd": "print(var_dic_list())"
    },
    "r": {
     "delete_cmd_postfix": ") ",
     "delete_cmd_prefix": "rm(",
     "library": "var_list.r",
     "varRefreshCmd": "cat(var_dic_list()) "
    }
   },
   "types_to_exclude": [
    "module",
    "function",
    "builtin_function_or_method",
    "instance",
    "_Feature"
   ],
   "window_display": false
  }
 },
 "nbformat": 4,
 "nbformat_minor": 5
}
